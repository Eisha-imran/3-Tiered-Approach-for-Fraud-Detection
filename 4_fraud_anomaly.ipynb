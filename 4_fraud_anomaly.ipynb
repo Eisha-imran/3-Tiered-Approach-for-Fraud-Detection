{
 "cells": [
  {
   "cell_type": "code",
   "execution_count": 1,
   "metadata": {},
   "outputs": [],
   "source": [
    "# import relevant modules\n",
    "import numpy as np\n",
    "import pandas as pd\n",
    "import matplotlib.pyplot as plt\n",
    "import seaborn as sns\n",
    "from sklearn.metrics import classification_report, confusion_matrix\n",
    "from sklearn.ensemble import IsolationForest\n",
    "from sklearn.neighbors import LocalOutlierFactor"
   ]
  },
  {
   "cell_type": "code",
   "execution_count": 2,
   "metadata": {},
   "outputs": [],
   "source": [
    "transactions_m = pd.read_csv('data/merged_data.csv', usecols=['client_id', 'transaction_id', 'target', 'date', 'merchant_state', 'amount'])"
   ]
  },
  {
   "cell_type": "code",
   "execution_count": 3,
   "metadata": {},
   "outputs": [],
   "source": [
    "fraud_users = transactions_m.loc[transactions_m['target']==1, 'client_id']"
   ]
  },
  {
   "cell_type": "code",
   "execution_count": 4,
   "metadata": {},
   "outputs": [
    {
     "data": {
      "text/plain": [
       "client_id\n",
       "1102    58\n",
       "209     52\n",
       "27      45\n",
       "155     44\n",
       "1128    43\n",
       "        ..\n",
       "380      1\n",
       "1696     1\n",
       "37       1\n",
       "1427     1\n",
       "1817     1\n",
       "Name: count, Length: 1196, dtype: int64"
      ]
     },
     "execution_count": 4,
     "metadata": {},
     "output_type": "execute_result"
    }
   ],
   "source": [
    "fraud_users.value_counts()"
   ]
  },
  {
   "cell_type": "code",
   "execution_count": 5,
   "metadata": {},
   "outputs": [],
   "source": [
    "user_id = 1102"
   ]
  },
  {
   "cell_type": "code",
   "execution_count": 39,
   "metadata": {},
   "outputs": [],
   "source": [
    "user_transactions = transactions_m.loc[transactions_m['client_id'] == user_id, :]"
   ]
  },
  {
   "cell_type": "code",
   "execution_count": 41,
   "metadata": {},
   "outputs": [],
   "source": [
    "user_transactions[['transaction_id']].to_csv('transactions.csv')"
   ]
  },
  {
   "cell_type": "code",
   "execution_count": 42,
   "metadata": {},
   "outputs": [],
   "source": [
    "input_data_path = 'data/'\n",
    "transactions = pd.read_csv(f'{input_data_path}/model_data_1102.csv')"
   ]
  },
  {
   "cell_type": "code",
   "execution_count": 43,
   "metadata": {},
   "outputs": [],
   "source": [
    "transactions = transactions.set_index('transaction_id')"
   ]
  },
  {
   "cell_type": "code",
   "execution_count": 45,
   "metadata": {},
   "outputs": [],
   "source": [
    "X = transactions.loc[transactions.index.isin(user_transactions['transaction_id'])].drop('target', axis=1)\n",
    "y = transactions.loc[transactions.index.isin(user_transactions['transaction_id']), 'target']\n",
    "seed = 42"
   ]
  },
  {
   "cell_type": "code",
   "execution_count": 49,
   "metadata": {},
   "outputs": [],
   "source": [
    "# create function to calculate model metrics\n",
    "def model_metrics(conf_matrix):\n",
    "    '''\n",
    "    Calculate model metrics (PCC,error rates, precision, sensitvity, and specificity\n",
    "\n",
    "    Args:\n",
    "    tn: True negatives\n",
    "    fp: False positives\n",
    "    fn: False negatives\n",
    "    tp: True positives\n",
    "    cutoff: The cutoff value of the model being evaluated; default is 0.5\n",
    "\n",
    "    Returns:\n",
    "    Dictionary of model metrics\n",
    "    '''\n",
    "\n",
    "    tn=conf_matrix[0][0]\n",
    "    fp= conf_matrix[0][1]\n",
    "    fn=conf_matrix[1][0]\n",
    "    tp=conf_matrix[1][1]\n",
    "    \n",
    "    metrics = {}\n",
    "    metrics['pcc'] = (tn + tp) / (tn + fp + fn + tp)\n",
    "    metrics['false_alarm_rate'] = fp / (tn + fp)\n",
    "    metrics['false_dismissal_rate'] = fn / (fn + tp)\n",
    "    metrics['precision'] = tp / (tp + fp)\n",
    "    metrics['sensitivity'] = tp / (tp + fn)\n",
    "    metrics['specificity'] = tn / (tn + fp)\n",
    "    print(f\"\"\"\n",
    "          The PCC is {metrics['pcc']:.4f}\\n\n",
    "          The false alarm rate is {metrics['false_alarm_rate']:.4f}\\n\n",
    "          The false dismissal rate is {metrics['false_dismissal_rate']:.4f}\\n\n",
    "          The precision is {metrics['precision']:.4f}\\n\n",
    "          The sensitivity is {metrics['sensitivity']:.4f} and\\n\n",
    "          The specificity is {metrics['specificity']:.4f}\"\"\")\n",
    "    return metrics"
   ]
  },
  {
   "cell_type": "code",
   "execution_count": 50,
   "metadata": {},
   "outputs": [
    {
     "name": "stdout",
     "output_type": "stream",
     "text": [
      "              precision    recall  f1-score   support\n",
      "\n",
      "         0.0       1.00      0.98      0.99     11832\n",
      "         1.0       0.14      0.55      0.22        58\n",
      "\n",
      "    accuracy                           0.98     11890\n",
      "   macro avg       0.57      0.77      0.61     11890\n",
      "weighted avg       0.99      0.98      0.99     11890\n",
      "\n",
      "[[11636   196]\n",
      " [   26    32]]\n"
     ]
    }
   ],
   "source": [
    "if_model = IsolationForest(random_state=seed)\n",
    "if_preds = if_model.fit_predict(X)\n",
    "if_preds[if_preds == 1] = 0\n",
    "if_preds[if_preds == -1] = 1\n",
    "print(classification_report(y, if_preds))\n",
    "print(confusion_matrix(y, if_preds))"
   ]
  },
  {
   "cell_type": "code",
   "execution_count": 51,
   "metadata": {},
   "outputs": [
    {
     "name": "stdout",
     "output_type": "stream",
     "text": [
      "\n",
      "          The PCC is 0.9813\n",
      "\n",
      "          The false alarm rate is 0.0166\n",
      "\n",
      "          The false dismissal rate is 0.4483\n",
      "\n",
      "          The precision is 0.1404\n",
      "\n",
      "          The sensitivity is 0.5517 and\n",
      "\n",
      "          The specificity is 0.9834\n"
     ]
    },
    {
     "data": {
      "text/plain": [
       "{'pcc': 0.9813288477712363,\n",
       " 'false_alarm_rate': 0.01656524678837052,\n",
       " 'false_dismissal_rate': 0.4482758620689655,\n",
       " 'precision': 0.14035087719298245,\n",
       " 'sensitivity': 0.5517241379310345,\n",
       " 'specificity': 0.9834347532116294}"
      ]
     },
     "execution_count": 51,
     "metadata": {},
     "output_type": "execute_result"
    }
   ],
   "source": [
    "model_metrics(confusion_matrix(y, if_preds))"
   ]
  },
  {
   "cell_type": "code",
   "execution_count": 213,
   "metadata": {},
   "outputs": [
    {
     "data": {
      "image/png": "[encoded data removed]",
      "text/plain": [
       "<Figure size 640x480 with 1 Axes>"
      ]
     },
     "metadata": {},
     "output_type": "display_data"
    }
   ],
   "source": [
    "labels = ['Not fraud', 'Fraud']\n",
    "sns.heatmap(confusion_matrix(y, if_preds), annot=True, fmt=\"d\", cmap='Blues_r', cbar=False, \n",
    "xticklabels=labels, yticklabels=labels)\n",
    "plt.xlabel('Predicted')\n",
    "plt.ylabel('Actual')\n",
    "plt.title(f'Anomaly Detection Model Confusion Matrix')\n",
    "plt.savefig('Anomaly detection', dpi=600)\n",
    "plt.show()\n"
   ]
  },
  {
   "cell_type": "code",
   "execution_count": null,
   "metadata": {},
   "outputs": [],
   "source": []
  },
  {
   "cell_type": "code",
   "execution_count": 53,
   "metadata": {},
   "outputs": [
    {
     "name": "stdout",
     "output_type": "stream",
     "text": [
      "              precision    recall  f1-score   support\n",
      "\n",
      "         0.0       1.00      0.98      0.99     11832\n",
      "         1.0       0.13      0.57      0.21        58\n",
      "\n",
      "    accuracy                           0.98     11890\n",
      "   macro avg       0.56      0.78      0.60     11890\n",
      "weighted avg       0.99      0.98      0.99     11890\n",
      "\n",
      "[[11612   220]\n",
      " [   25    33]]\n"
     ]
    }
   ],
   "source": [
    "lof_model = LocalOutlierFactor(n_neighbors=30)\n",
    "lof_preds = lof_model.fit_predict(X)\n",
    "lof_preds_scores = -1 * lof_model.negative_outlier_factor_\n",
    "lof_preds[lof_preds == 1] = 0\n",
    "lof_preds[lof_preds == -1] = 1\n",
    "print(classification_report(y, lof_preds))\n",
    "print(confusion_matrix(y, lof_preds))"
   ]
  },
  {
   "cell_type": "code",
   "execution_count": 54,
   "metadata": {},
   "outputs": [
    {
     "name": "stdout",
     "output_type": "stream",
     "text": [
      "\n",
      "          The PCC is 0.9794\n",
      "\n",
      "          The false alarm rate is 0.0186\n",
      "\n",
      "          The false dismissal rate is 0.4310\n",
      "\n",
      "          The precision is 0.1304\n",
      "\n",
      "          The sensitivity is 0.5690 and\n",
      "\n",
      "          The specificity is 0.9814\n"
     ]
    },
    {
     "data": {
      "text/plain": [
       "{'pcc': 0.979394449116905,\n",
       " 'false_alarm_rate': 0.01859364435429344,\n",
       " 'false_dismissal_rate': 0.43103448275862066,\n",
       " 'precision': 0.13043478260869565,\n",
       " 'sensitivity': 0.5689655172413793,\n",
       " 'specificity': 0.9814063556457066}"
      ]
     },
     "execution_count": 54,
     "metadata": {},
     "output_type": "execute_result"
    }
   ],
   "source": [
    "model_metrics(confusion_matrix(y, lof_preds))"
   ]
  },
  {
   "cell_type": "code",
   "execution_count": null,
   "metadata": {},
   "outputs": [
    {
     "data": {
      "image/png": "[encoded data removed]",
      "text/plain": [
       "<Figure size 640x480 with 1 Axes>"
      ]
     },
     "metadata": {},
     "output_type": "display_data"
    }
   ],
   "source": [
    "labels = ['Not fraud', 'Fraud']\n",
    "sns.heatmap(confusion_matrix(y, lof_preds), annot=True, fmt=\"d\", cmap='Blues_r', cbar=False, \n",
    "xticklabels=labels, yticklabels=labels)\n",
    "plt.xlabel('Predicted')\n",
    "plt.ylabel('Actual')\n",
    "plt.title(f'Local Outlier Factor Confusion Matrix')\n",
    "plt.savefig('')\n",
    "plt.show()\n"
   ]
  },
  {
   "cell_type": "code",
   "execution_count": null,
   "metadata": {},
   "outputs": [],
   "source": []
  },
  {
   "cell_type": "code",
   "execution_count": 56,
   "metadata": {},
   "outputs": [],
   "source": [
    "import joblib\n",
    "model = joblib.load('models/decision_tree.pkl')"
   ]
  },
  {
   "cell_type": "code",
   "execution_count": 72,
   "metadata": {},
   "outputs": [],
   "source": [
    "for col in X.columns:\n",
    "    if 'category' in col:\n",
    "        new_col = col.replace('_ ', ', ')\n",
    "        X = X.rename(columns={col:new_col})"
   ]
  },
  {
   "cell_type": "code",
   "execution_count": 75,
   "metadata": {},
   "outputs": [],
   "source": [
    "X = X.rename(columns={'category_Betting _including Lottery Tickets, Casinos_': 'category_Betting (including Lottery Tickets, Casinos)',\n",
    "                      'category_Drinking Places _Alcoholic Beverages_': 'category_Drinking Places (Alcoholic Beverages)'})"
   ]
  },
  {
   "cell_type": "code",
   "execution_count": 76,
   "metadata": {},
   "outputs": [],
   "source": [
    "dt_preds = model.predict(X)"
   ]
  },
  {
   "cell_type": "code",
   "execution_count": 77,
   "metadata": {},
   "outputs": [
    {
     "name": "stdout",
     "output_type": "stream",
     "text": [
      "              precision    recall  f1-score   support\n",
      "\n",
      "         0.0       1.00      0.96      0.98     11832\n",
      "         1.0       0.10      0.90      0.17        58\n",
      "\n",
      "    accuracy                           0.96     11890\n",
      "   macro avg       0.55      0.93      0.58     11890\n",
      "weighted avg       1.00      0.96      0.97     11890\n",
      "\n",
      "[[11337   495]\n",
      " [    6    52]]\n"
     ]
    }
   ],
   "source": [
    "print(classification_report(y, dt_preds))\n",
    "print(confusion_matrix(y, dt_preds))"
   ]
  },
  {
   "cell_type": "code",
   "execution_count": 78,
   "metadata": {},
   "outputs": [
    {
     "name": "stdout",
     "output_type": "stream",
     "text": [
      "\n",
      "          The PCC is 0.9579\n",
      "\n",
      "          The false alarm rate is 0.0418\n",
      "\n",
      "          The false dismissal rate is 0.1034\n",
      "\n",
      "          The precision is 0.0951\n",
      "\n",
      "          The sensitivity is 0.8966 and\n",
      "\n",
      "          The specificity is 0.9582\n"
     ]
    },
    {
     "data": {
      "text/plain": [
       "{'pcc': 0.9578637510513036,\n",
       " 'false_alarm_rate': 0.041835699797160245,\n",
       " 'false_dismissal_rate': 0.10344827586206896,\n",
       " 'precision': 0.09506398537477148,\n",
       " 'sensitivity': 0.896551724137931,\n",
       " 'specificity': 0.9581643002028397}"
      ]
     },
     "execution_count": 78,
     "metadata": {},
     "output_type": "execute_result"
    }
   ],
   "source": [
    "model_metrics(confusion_matrix(y, dt_preds))"
   ]
  },
  {
   "cell_type": "code",
   "execution_count": 214,
   "metadata": {},
   "outputs": [
    {
     "data": {
      "image/png": "[encoded data removed]",
      "text/plain": [
       "<Figure size 640x480 with 1 Axes>"
      ]
     },
     "metadata": {},
     "output_type": "display_data"
    }
   ],
   "source": [
    "labels = ['Not fraud', 'Fraud']\n",
    "sns.heatmap(confusion_matrix(y, dt_preds), annot=True, fmt=\"d\", cmap='Blues_r', cbar=False, \n",
    "xticklabels=labels, yticklabels=labels)\n",
    "plt.xlabel('Predicted')\n",
    "plt.ylabel('Actual')\n",
    "plt.title(f'Classification Model Confusion Matrix')\n",
    "plt.savefig('dt', dpi=600)\n",
    "plt.show()\n"
   ]
  },
  {
   "cell_type": "code",
   "execution_count": 80,
   "metadata": {},
   "outputs": [],
   "source": [
    "propensities = model.predict_proba(X)[:, 1]"
   ]
  },
  {
   "cell_type": "code",
   "execution_count": null,
   "metadata": {},
   "outputs": [],
   "source": []
  },
  {
   "cell_type": "code",
   "execution_count": 81,
   "metadata": {},
   "outputs": [
    {
     "data": {
      "text/plain": [
       "count    11890.000000\n",
       "mean        70.570271\n",
       "std        115.122469\n",
       "min          0.350000\n",
       "25%         13.600000\n",
       "50%         22.765000\n",
       "75%        107.587500\n",
       "max       1589.540000\n",
       "Name: amount, dtype: float64"
      ]
     },
     "execution_count": 81,
     "metadata": {},
     "output_type": "execute_result"
    }
   ],
   "source": [
    "abs(user_transactions['amount']).describe()"
   ]
  },
  {
   "cell_type": "code",
   "execution_count": 82,
   "metadata": {},
   "outputs": [
    {
     "data": {
      "text/plain": [
       "415.93767799999995"
      ]
     },
     "execution_count": 82,
     "metadata": {},
     "output_type": "execute_result"
    }
   ],
   "source": [
    "70.570271 + (3*115.122469)"
   ]
  },
  {
   "cell_type": "code",
   "execution_count": 83,
   "metadata": {},
   "outputs": [],
   "source": [
    "user_transactions['date'] = pd.to_datetime(user_transactions['date'])"
   ]
  },
  {
   "cell_type": "code",
   "execution_count": 84,
   "metadata": {},
   "outputs": [],
   "source": [
    "user_transactions = user_transactions.sort_values(by=['client_id', 'date'])\n",
    "\n",
    "# Calculate time difference (in seconds) between consecutive transactions for each client\n",
    "user_transactions['time_diff'] = user_transactions.groupby('client_id')['date'].diff().dt.total_seconds()"
   ]
  },
  {
   "cell_type": "code",
   "execution_count": 85,
   "metadata": {},
   "outputs": [],
   "source": [
    "count = 0\n",
    "counts = []\n",
    "\n",
    "for diff in user_transactions['time_diff']:\n",
    "    if diff <= 3600:  # If the previous transaction happened within 1 hour, increment count\n",
    "        count += 1\n",
    "    else:  # Otherwise, reset count\n",
    "        count = 0\n",
    "    counts.append(count)"
   ]
  },
  {
   "cell_type": "code",
   "execution_count": null,
   "metadata": {},
   "outputs": [
    {
     "name": "stdout",
     "output_type": "stream",
     "text": [
      "      client_id  amount merchant_state  rule_1  rule_2  rule_3  rule_4  \\\n",
      "335        1102    4.42  United States   False   False   False   False   \n",
      "698        1102   79.86  United States   False   False   False   False   \n",
      "730        1102  -59.00  United States   False   False   False   False   \n",
      "1365       1102  106.83  United States   False   False   False   False   \n",
      "2567       1102    3.36  United States   False   False   False   False   \n",
      "\n",
      "      rule_5  rule_score decision  \n",
      "335    False           0    Allow  \n",
      "698    False           0    Allow  \n",
      "730    False           0    Allow  \n",
      "1365   False           0    Allow  \n",
      "2567   False           0    Allow  \n"
     ]
    }
   ],
   "source": [
    "# Ensure 'date' column is in datetime format\n",
    "#user_transactions['date'] = pd.to_datetime(user_transactions['date'])\n",
    "\n",
    "# Create a new column for unusual locations by counting unique states per client_id\n",
    "#user_transactions['unusual_location_count'] = user_transactions.groupby('client_id')['merchant_state'].transform(lambda x: len(x.unique()))\n",
    "\n",
    "# Sort by client and date\n",
    "#user_transactions = user_transactions.sort_values(by=['client_id', 'date'])\n",
    "\n",
    "# Calculate time difference (in seconds) between consecutive transactions for each client\n",
    "#user_transactions['time_diff'] = user_transactions.groupby('client_id')['date'].diff().dt.total_seconds()\n",
    "\n",
    "# Count the number of transactions within the last hour (3600 seconds)\n",
    "user_transactions['transactions_last_hour'] = counts\n",
    "\n",
    "# Extract the hour from the 'date' column\n",
    "user_transactions['hour'] = user_transactions['date'].dt.hour\n",
    "\n",
    "# Count night transactions (transactions between 1 AM and 4 AM)\n",
    "user_transactions['night_trans_count'] = user_transactions['hour'].between(1, 4).astype(int)\n",
    "\n",
    "# Rule 1: High amount and international transaction\n",
    "user_transactions['rule_1'] = (user_transactions['amount'] > 415.94) & (user_transactions['merchant_state'] != 'United States')\n",
    "\n",
    "# Rule 2: Unusual location (≥2 different states)\n",
    "user_transactions['rule_2'] = user_transactions['merchant_state'] != 'United States'\n",
    "\n",
    "# Rule 3: High-velocity transactions (≥10 in last hour)\n",
    "user_transactions['rule_3'] = user_transactions['transactions_last_hour'] >= 10\n",
    "\n",
    "# Rule 4: Extreme amount (>$999)\n",
    "user_transactions['rule_4'] = user_transactions['amount'] > 415.94\n",
    "\n",
    "# Rule 5: Night transactions (1AM-4AM)\n",
    "user_transactions['rule_5'] = user_transactions['night_trans_count'] >= 5\n",
    "\n",
    "# Compute total rule score\n",
    "user_transactions['rule_score'] = user_transactions[['rule_1', 'rule_2', 'rule_3', 'rule_4', 'rule_5']].sum(axis=1)\n",
    "\n",
    "# Apply decisions with severity logic\n",
    "user_transactions['decision'] = np.select(\n",
    "    [user_transactions['rule_score'] >= 3,  user_transactions['rule_score'] == 2,  user_transactions['rule_score'] == 1], # Low severity transactions\n",
    "    ['Block', 'Manual Review', 'Flag'],  # Corrected decision application\n",
    "    default='Allow'  # If none of the above, the transaction is allowed\n",
    ")\n",
    "\n",
    "# Now you can check the resulting dataframe to verify the decisions\n",
    "print(user_transactions[['client_id', 'amount', 'merchant_state', 'rule_1', 'rule_2', 'rule_3', 'rule_4', 'rule_5', 'rule_score', 'decision']].head())"
   ]
  },
  {
   "cell_type": "code",
   "execution_count": 190,
   "metadata": {},
   "outputs": [
    {
     "data": {
      "text/plain": [
       "decision\n",
       "Allow    11025\n",
       "Flag       800\n",
       "Block       65\n",
       "Name: count, dtype: int64"
      ]
     },
     "execution_count": 190,
     "metadata": {},
     "output_type": "execute_result"
    }
   ],
   "source": [
    "user_transactions.decision.value_counts()"
   ]
  },
  {
   "cell_type": "code",
   "execution_count": 200,
   "metadata": {},
   "outputs": [],
   "source": [
    "r_preds = np.select(\n",
    "    [user_transactions['rule_score'] >= 1], # Low severity transactions\n",
    "    [1],  # Corrected decision application\n",
    "    default=0  # If none of the above, the transaction is allowed\n",
    ")\n"
   ]
  },
  {
   "cell_type": "code",
   "execution_count": 201,
   "metadata": {},
   "outputs": [
    {
     "name": "stdout",
     "output_type": "stream",
     "text": [
      "              precision    recall  f1-score   support\n",
      "\n",
      "         0.0       1.00      0.93      0.96     11832\n",
      "         1.0       0.00      0.07      0.01        58\n",
      "\n",
      "    accuracy                           0.92     11890\n",
      "   macro avg       0.50      0.50      0.48     11890\n",
      "weighted avg       0.99      0.92      0.96     11890\n",
      "\n",
      "[[10971   861]\n",
      " [   54     4]]\n"
     ]
    }
   ],
   "source": [
    "print(classification_report(y, r_preds))\n",
    "print(confusion_matrix(y, r_preds))"
   ]
  },
  {
   "cell_type": "code",
   "execution_count": 202,
   "metadata": {},
   "outputs": [
    {
     "name": "stdout",
     "output_type": "stream",
     "text": [
      "\n",
      "          The PCC is 0.9230\n",
      "\n",
      "          The false alarm rate is 0.0728\n",
      "\n",
      "          The false dismissal rate is 0.9310\n",
      "\n",
      "          The precision is 0.0046\n",
      "\n",
      "          The sensitivity is 0.0690 and\n",
      "\n",
      "          The specificity is 0.9272\n"
     ]
    },
    {
     "data": {
      "text/plain": [
       "{'pcc': 0.9230445752733389,\n",
       " 'false_alarm_rate': 0.07276876267748479,\n",
       " 'false_dismissal_rate': 0.9310344827586207,\n",
       " 'precision': 0.004624277456647399,\n",
       " 'sensitivity': 0.06896551724137931,\n",
       " 'specificity': 0.9272312373225152}"
      ]
     },
     "execution_count": 202,
     "metadata": {},
     "output_type": "execute_result"
    }
   ],
   "source": [
    "model_metrics(confusion_matrix(y, r_preds))"
   ]
  },
  {
   "cell_type": "code",
   "execution_count": 212,
   "metadata": {},
   "outputs": [
    {
     "data": {
      "image/png": "[encoded data removed]",
      "text/plain": [
       "<Figure size 640x480 with 1 Axes>"
      ]
     },
     "metadata": {},
     "output_type": "display_data"
    }
   ],
   "source": [
    "labels = ['Not fraud', 'Fraud']\n",
    "sns.heatmap(confusion_matrix(y, r_preds), annot=True, fmt=\"d\", cmap='Blues_r', cbar=False, \n",
    "xticklabels=labels, yticklabels=labels)\n",
    "plt.xlabel('Predicted')\n",
    "plt.ylabel('Actual')\n",
    "plt.title(f'Rule Based Model Confusion Matrix')\n",
    "plt.savefig('rbm', dpi=600)\n",
    "plt.show()\n"
   ]
  },
  {
   "cell_type": "code",
   "execution_count": null,
   "metadata": {},
   "outputs": [],
   "source": []
  },
  {
   "cell_type": "code",
   "execution_count": 102,
   "metadata": {},
   "outputs": [],
   "source": [
    "thresholds = pd.DataFrame({'propensities':propensities, 'actual':y, 'dt_pred_at_05':dt_preds, 'if_pred':if_preds,\n",
    "                           'lof_pred':lof_preds, 'rbm_pred':r_preds})"
   ]
  },
  {
   "cell_type": "code",
   "execution_count": 103,
   "metadata": {},
   "outputs": [],
   "source": [
    "thresholds['dt_pred_at_08'] = np.where(thresholds['propensities'] >= 0.8, 1, 0)"
   ]
  },
  {
   "cell_type": "code",
   "execution_count": 104,
   "metadata": {},
   "outputs": [
    {
     "data": {
      "text/html": [
       "<div>\n",
       "<style scoped>\n",
       "    .dataframe tbody tr th:only-of-type {\n",
       "        vertical-align: middle;\n",
       "    }\n",
       "\n",
       "    .dataframe tbody tr th {\n",
       "        vertical-align: top;\n",
       "    }\n",
       "\n",
       "    .dataframe thead th {\n",
       "        text-align: right;\n",
       "    }\n",
       "</style>\n",
       "<table border=\"1\" class=\"dataframe\">\n",
       "  <thead>\n",
       "    <tr style=\"text-align: right;\">\n",
       "      <th></th>\n",
       "      <th>propensities</th>\n",
       "      <th>actual</th>\n",
       "      <th>dt_pred_at_05</th>\n",
       "      <th>if_pred</th>\n",
       "      <th>lof_pred</th>\n",
       "      <th>rbm_pred</th>\n",
       "      <th>dt_pred_at_08</th>\n",
       "    </tr>\n",
       "    <tr>\n",
       "      <th>transaction_id</th>\n",
       "      <th></th>\n",
       "      <th></th>\n",
       "      <th></th>\n",
       "      <th></th>\n",
       "      <th></th>\n",
       "      <th></th>\n",
       "      <th></th>\n",
       "    </tr>\n",
       "  </thead>\n",
       "  <tbody>\n",
       "    <tr>\n",
       "      <th>17008474</th>\n",
       "      <td>0.135418</td>\n",
       "      <td>0.0</td>\n",
       "      <td>0.0</td>\n",
       "      <td>0</td>\n",
       "      <td>0</td>\n",
       "      <td>0</td>\n",
       "      <td>0</td>\n",
       "    </tr>\n",
       "    <tr>\n",
       "      <th>19743479</th>\n",
       "      <td>0.000000</td>\n",
       "      <td>0.0</td>\n",
       "      <td>0.0</td>\n",
       "      <td>0</td>\n",
       "      <td>0</td>\n",
       "      <td>0</td>\n",
       "      <td>0</td>\n",
       "    </tr>\n",
       "    <tr>\n",
       "      <th>8183364</th>\n",
       "      <td>0.000000</td>\n",
       "      <td>0.0</td>\n",
       "      <td>0.0</td>\n",
       "      <td>0</td>\n",
       "      <td>0</td>\n",
       "      <td>0</td>\n",
       "      <td>0</td>\n",
       "    </tr>\n",
       "    <tr>\n",
       "      <th>21073614</th>\n",
       "      <td>0.000000</td>\n",
       "      <td>0.0</td>\n",
       "      <td>0.0</td>\n",
       "      <td>0</td>\n",
       "      <td>0</td>\n",
       "      <td>0</td>\n",
       "      <td>0</td>\n",
       "    </tr>\n",
       "    <tr>\n",
       "      <th>22480303</th>\n",
       "      <td>0.000000</td>\n",
       "      <td>0.0</td>\n",
       "      <td>0.0</td>\n",
       "      <td>0</td>\n",
       "      <td>0</td>\n",
       "      <td>0</td>\n",
       "      <td>0</td>\n",
       "    </tr>\n",
       "  </tbody>\n",
       "</table>\n",
       "</div>"
      ],
      "text/plain": [
       "                propensities  actual  dt_pred_at_05  if_pred  lof_pred  \\\n",
       "transaction_id                                                           \n",
       "17008474            0.135418     0.0            0.0        0         0   \n",
       "19743479            0.000000     0.0            0.0        0         0   \n",
       "8183364             0.000000     0.0            0.0        0         0   \n",
       "21073614            0.000000     0.0            0.0        0         0   \n",
       "22480303            0.000000     0.0            0.0        0         0   \n",
       "\n",
       "                rbm_pred  dt_pred_at_08  \n",
       "transaction_id                           \n",
       "17008474               0              0  \n",
       "19743479               0              0  \n",
       "8183364                0              0  \n",
       "21073614               0              0  \n",
       "22480303               0              0  "
      ]
     },
     "execution_count": 104,
     "metadata": {},
     "output_type": "execute_result"
    }
   ],
   "source": [
    "thresholds.head()"
   ]
  },
  {
   "cell_type": "code",
   "execution_count": 133,
   "metadata": {},
   "outputs": [],
   "source": [
    "thresholds['score1'] = thresholds['rbm_pred']+thresholds['if_pred']+thresholds['dt_pred_at_08']"
   ]
  },
  {
   "cell_type": "code",
   "execution_count": 145,
   "metadata": {},
   "outputs": [
    {
     "data": {
      "text/html": [
       "<div>\n",
       "<style scoped>\n",
       "    .dataframe tbody tr th:only-of-type {\n",
       "        vertical-align: middle;\n",
       "    }\n",
       "\n",
       "    .dataframe tbody tr th {\n",
       "        vertical-align: top;\n",
       "    }\n",
       "\n",
       "    .dataframe thead th {\n",
       "        text-align: right;\n",
       "    }\n",
       "</style>\n",
       "<table border=\"1\" class=\"dataframe\">\n",
       "  <thead>\n",
       "    <tr style=\"text-align: right;\">\n",
       "      <th></th>\n",
       "      <th>propensities</th>\n",
       "      <th>actual</th>\n",
       "      <th>dt_pred_at_05</th>\n",
       "      <th>if_pred</th>\n",
       "      <th>lof_pred</th>\n",
       "      <th>rbm_pred</th>\n",
       "      <th>dt_pred_at_08</th>\n",
       "      <th>score1</th>\n",
       "    </tr>\n",
       "    <tr>\n",
       "      <th>transaction_id</th>\n",
       "      <th></th>\n",
       "      <th></th>\n",
       "      <th></th>\n",
       "      <th></th>\n",
       "      <th></th>\n",
       "      <th></th>\n",
       "      <th></th>\n",
       "      <th></th>\n",
       "    </tr>\n",
       "  </thead>\n",
       "  <tbody>\n",
       "    <tr>\n",
       "      <th>17008474</th>\n",
       "      <td>0.135418</td>\n",
       "      <td>0.0</td>\n",
       "      <td>0.0</td>\n",
       "      <td>0</td>\n",
       "      <td>0</td>\n",
       "      <td>0</td>\n",
       "      <td>0</td>\n",
       "      <td>0</td>\n",
       "    </tr>\n",
       "    <tr>\n",
       "      <th>19743479</th>\n",
       "      <td>0.000000</td>\n",
       "      <td>0.0</td>\n",
       "      <td>0.0</td>\n",
       "      <td>0</td>\n",
       "      <td>0</td>\n",
       "      <td>0</td>\n",
       "      <td>0</td>\n",
       "      <td>0</td>\n",
       "    </tr>\n",
       "    <tr>\n",
       "      <th>8183364</th>\n",
       "      <td>0.000000</td>\n",
       "      <td>0.0</td>\n",
       "      <td>0.0</td>\n",
       "      <td>0</td>\n",
       "      <td>0</td>\n",
       "      <td>0</td>\n",
       "      <td>0</td>\n",
       "      <td>0</td>\n",
       "    </tr>\n",
       "    <tr>\n",
       "      <th>21073614</th>\n",
       "      <td>0.000000</td>\n",
       "      <td>0.0</td>\n",
       "      <td>0.0</td>\n",
       "      <td>0</td>\n",
       "      <td>0</td>\n",
       "      <td>0</td>\n",
       "      <td>0</td>\n",
       "      <td>0</td>\n",
       "    </tr>\n",
       "    <tr>\n",
       "      <th>22480303</th>\n",
       "      <td>0.000000</td>\n",
       "      <td>0.0</td>\n",
       "      <td>0.0</td>\n",
       "      <td>0</td>\n",
       "      <td>0</td>\n",
       "      <td>0</td>\n",
       "      <td>0</td>\n",
       "      <td>0</td>\n",
       "    </tr>\n",
       "  </tbody>\n",
       "</table>\n",
       "</div>"
      ],
      "text/plain": [
       "                propensities  actual  dt_pred_at_05  if_pred  lof_pred  \\\n",
       "transaction_id                                                           \n",
       "17008474            0.135418     0.0            0.0        0         0   \n",
       "19743479            0.000000     0.0            0.0        0         0   \n",
       "8183364             0.000000     0.0            0.0        0         0   \n",
       "21073614            0.000000     0.0            0.0        0         0   \n",
       "22480303            0.000000     0.0            0.0        0         0   \n",
       "\n",
       "                rbm_pred  dt_pred_at_08  score1  \n",
       "transaction_id                                   \n",
       "17008474               0              0       0  \n",
       "19743479               0              0       0  \n",
       "8183364                0              0       0  \n",
       "21073614               0              0       0  \n",
       "22480303               0              0       0  "
      ]
     },
     "execution_count": 145,
     "metadata": {},
     "output_type": "execute_result"
    }
   ],
   "source": [
    "thresholds.head()"
   ]
  },
  {
   "cell_type": "code",
   "execution_count": 159,
   "metadata": {},
   "outputs": [
    {
     "data": {
      "text/plain": [
       "score1\n",
       "0    10511\n",
       "1     1190\n",
       "2      182\n",
       "3        7\n",
       "Name: count, dtype: int64"
      ]
     },
     "execution_count": 159,
     "metadata": {},
     "output_type": "execute_result"
    }
   ],
   "source": [
    "thresholds.score1.value_counts()"
   ]
  },
  {
   "cell_type": "code",
   "execution_count": 205,
   "metadata": {},
   "outputs": [],
   "source": [
    "preds = np.select(\n",
    "    [thresholds['score1']>1],\n",
    "    [1],\n",
    "    default=0\n",
    ")"
   ]
  },
  {
   "cell_type": "code",
   "execution_count": 180,
   "metadata": {},
   "outputs": [],
   "source": [
    "conf_mat_08 = confusion_matrix(y, preds)"
   ]
  },
  {
   "cell_type": "code",
   "execution_count": 206,
   "metadata": {},
   "outputs": [
    {
     "data": {
      "text/plain": [
       "array([[10506,  1326],\n",
       "       [    5,    53]], dtype=int64)"
      ]
     },
     "execution_count": 206,
     "metadata": {},
     "output_type": "execute_result"
    }
   ],
   "source": [
    "conf_mat_08"
   ]
  },
  {
   "cell_type": "code",
   "execution_count": 207,
   "metadata": {},
   "outputs": [
    {
     "data": {
      "image/png": "[encoded data removed]",
      "text/plain": [
       "<Figure size 640x480 with 1 Axes>"
      ]
     },
     "metadata": {},
     "output_type": "display_data"
    }
   ],
   "source": [
    "# show the confusion matrix in a heat map\n",
    "sns.heatmap(conf_mat_08, annot=True, fmt=\"d\", cmap='Blues_r', cbar=False)\n",
    "plt.xlabel('Predicted')\n",
    "plt.ylabel('Actual')\n",
    "plt.title('Confusion Matrix at 0.8 cutoff')\n",
    "plt.show()"
   ]
  },
  {
   "cell_type": "code",
   "execution_count": 208,
   "metadata": {},
   "outputs": [
    {
     "name": "stdout",
     "output_type": "stream",
     "text": [
      "              precision    recall  f1-score   support\n",
      "\n",
      "         0.0       1.00      0.99      0.99     11832\n",
      "         1.0       0.17      0.57      0.27        58\n",
      "\n",
      "    accuracy                           0.98     11890\n",
      "   macro avg       0.59      0.78      0.63     11890\n",
      "weighted avg       0.99      0.98      0.99     11890\n",
      "\n"
     ]
    }
   ],
   "source": [
    "print(classification_report(y, preds))"
   ]
  },
  {
   "cell_type": "code",
   "execution_count": 184,
   "metadata": {},
   "outputs": [
    {
     "name": "stdout",
     "output_type": "stream",
     "text": [
      "\n",
      "          The PCC is 0.8881\n",
      "\n",
      "          The false alarm rate is 0.1121\n",
      "\n",
      "          The false dismissal rate is 0.0862\n",
      "\n",
      "          The precision is 0.0384\n",
      "\n",
      "          The sensitivity is 0.9138 and\n",
      "\n",
      "          The specificity is 0.8879\n"
     ]
    },
    {
     "data": {
      "text/plain": [
       "{'pcc': 0.8880571909167367,\n",
       " 'false_alarm_rate': 0.11206896551724138,\n",
       " 'false_dismissal_rate': 0.08620689655172414,\n",
       " 'precision': 0.03843364757070341,\n",
       " 'sensitivity': 0.9137931034482759,\n",
       " 'specificity': 0.8879310344827587}"
      ]
     },
     "execution_count": 184,
     "metadata": {},
     "output_type": "execute_result"
    }
   ],
   "source": [
    "model_metrics(confusion_matrix(y, preds))"
   ]
  },
  {
   "cell_type": "code",
   "execution_count": null,
   "metadata": {},
   "outputs": [],
   "source": []
  }
 ],
 "metadata": {
  "kernelspec": {
   "display_name": "ucalgary",
   "language": "python",
   "name": "python3"
  },
  "language_info": {
   "codemirror_mode": {
    "name": "ipython",
    "version": 3
   },
   "file_extension": ".py",
   "mimetype": "text/x-python",
   "name": "python",
   "nbconvert_exporter": "python",
   "pygments_lexer": "ipython3",
   "version": "3.12.4"
  }
 },
 "nbformat": 4,
 "nbformat_minor": 2
}
