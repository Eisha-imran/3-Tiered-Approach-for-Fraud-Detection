{
 "cells": [
  {
   "cell_type": "code",
   "execution_count": 3,
   "metadata": {},
   "outputs": [
    {
     "name": "stdout",
     "output_type": "stream",
     "text": [
      "Requirement already satisfied: kagglehub in /opt/anaconda3/lib/python3.12/site-packages (0.3.9)\n",
      "Requirement already satisfied: packaging in /opt/anaconda3/lib/python3.12/site-packages (from kagglehub) (23.2)\n",
      "Requirement already satisfied: pyyaml in /opt/anaconda3/lib/python3.12/site-packages (from kagglehub) (6.0.1)\n",
      "Requirement already satisfied: requests in /opt/anaconda3/lib/python3.12/site-packages (from kagglehub) (2.32.2)\n",
      "Requirement already satisfied: tqdm in /opt/anaconda3/lib/python3.12/site-packages (from kagglehub) (4.66.4)\n",
      "Requirement already satisfied: charset-normalizer<4,>=2 in /opt/anaconda3/lib/python3.12/site-packages (from requests->kagglehub) (2.0.4)\n",
      "Requirement already satisfied: idna<4,>=2.5 in /opt/anaconda3/lib/python3.12/site-packages (from requests->kagglehub) (3.7)\n",
      "Requirement already satisfied: urllib3<3,>=1.21.1 in /opt/anaconda3/lib/python3.12/site-packages (from requests->kagglehub) (2.2.2)\n",
      "Requirement already satisfied: certifi>=2017.4.17 in /opt/anaconda3/lib/python3.12/site-packages (from requests->kagglehub) (2024.7.4)\n"
     ]
    }
   ],
   "source": [
    "!pip install kagglehub"
   ]
  },
  {
   "cell_type": "code",
   "execution_count": 4,
   "metadata": {},
   "outputs": [],
   "source": [
    "import numpy as np\n",
    "import pandas as pd\n",
    "import matplotlib.pyplot as plt\n",
    "import seaborn as sns\n",
    "import plotly.express as px\n",
    "from sklearn.model_selection import train_test_split, cross_val_score, RandomizedSearchCV, StratifiedKFold\n",
    "from sklearn.metrics import accuracy_score, classification_report, confusion_matrix, roc_auc_score, roc_curve, auc,\\\n",
    "    r2_score, mean_squared_error, mean_absolute_error\n",
    "from sklearn.preprocessing import MinMaxScaler, StandardScaler, LabelEncoder\n",
    "from sklearn.ensemble import RandomForestClassifier, GradientBoostingClassifier, AdaBoostClassifier, ExtraTreesClassifier\n",
    "from sklearn.linear_model import LogisticRegression\n",
    "import statsmodels.api as sm\n",
    "from sklearn.naive_bayes import GaussianNB\n",
    "from sklearn.tree import DecisionTreeClassifier, plot_tree\n",
    "from sklearn.decomposition import PCA\n",
    "import kagglehub\n",
    "import os\n",
    "from pathlib import Path\n",
    "import shutil"
   ]
  },
  {
   "cell_type": "code",
   "execution_count": 5,
   "metadata": {},
   "outputs": [
    {
     "name": "stdout",
     "output_type": "stream",
     "text": [
      "Downloading from https://www.kaggle.com/api/v1/datasets/download/computingvictor/transactions-fraud-datasets?dataset_version_number=1...\n"
     ]
    },
    {
     "name": "stderr",
     "output_type": "stream",
     "text": [
      "100%|████████████████████████████████████████| 348M/348M [00:17<00:00, 20.5MB/s]"
     ]
    },
    {
     "name": "stdout",
     "output_type": "stream",
     "text": [
      "Extracting files...\n"
     ]
    },
    {
     "name": "stderr",
     "output_type": "stream",
     "text": [
      "\n"
     ]
    }
   ],
   "source": [
    "kaggle_data_path = kagglehub.dataset_download(handle=\"computingvictor/transactions-fraud-datasets\")\n",
    "create_directory = 'data/'\n",
    "shutil.rmtree(create_directory, ignore_errors=True)\n",
    "input_data_path = shutil.move(kaggle_data_path, create_directory)"
   ]
  },
  {
   "cell_type": "code",
   "execution_count": 6,
   "metadata": {},
   "outputs": [],
   "source": [
    "true = 'yes'\n",
    "false = 'no'\n",
    "true_values = [true.lower(), true.upper(), true.title()]\n",
    "false_values = [false.lower(), false.upper(), false.title()]\n",
    "cards_column_mapping = {'id':str, 'client_id':str, 'card_number':str, 'cvv':str, 'has_chip':bool, 'card_on_dark_web':bool}\n",
    "cards_date_columns = ['expires', 'acct_open_date']\n",
    "transactions_column_mapping = {'id':str, 'client_id':str, 'card_id':str, 'merchant_id':str, 'zip':str, 'mcc':str}\n",
    "users_column_mapping = {'id':str}"
   ]
  },
  {
   "cell_type": "code",
   "execution_count": 7,
   "metadata": {},
   "outputs": [],
   "source": [
    "cards = pd.read_csv(f'{input_data_path}/cards_data.csv', true_values=true_values, false_values=false_values,\n",
    "                    dtype=cards_column_mapping)\n",
    "mcc_codes = pd.read_json(f'{input_data_path}/mcc_codes.json', orient='index').rename(columns={0: 'category'})\\\n",
    "    .reset_index(names='mcc')\n",
    "fraud_labels = pd.read_json(f'{input_data_path}/train_fraud_labels.json').reset_index(names='transaction_id')\n",
    "transactions = pd.read_csv(f'{input_data_path}/transactions_data.csv', dtype=transactions_column_mapping)\n",
    "users = pd.read_csv(f'{input_data_path}/users_data.csv', dtype=users_column_mapping)"
   ]
  },
  {
   "cell_type": "code",
   "execution_count": 8,
   "metadata": {},
   "outputs": [],
   "source": [
    "cards[cards_date_columns] = cards[cards_date_columns].apply(lambda col: pd.to_datetime(col, format='%m/%Y'))\n",
    "cards['credit_limit'] = cards['credit_limit'].str.removeprefix('$').astype(float)\n",
    "mcc_codes['mcc'] = mcc_codes['mcc'].astype(str)\n",
    "fraud_labels['target'] = fraud_labels['target'].apply(lambda row: 1 if row in true_values else 0)\n",
    "fraud_labels['transaction_id'] = fraud_labels['transaction_id'].astype(str)\n",
    "transactions['date'] = pd.to_datetime(transactions['date'], format='%Y-%m-%d %H:%M:%S')\n",
    "transactions['amount'] = transactions['amount'].str.removeprefix('$').astype(float)\n",
    "users[['per_capita_income', 'yearly_income', 'total_debt']] = users[['per_capita_income', 'yearly_income', 'total_debt']].\\\n",
    "    apply(lambda col: col.str.removeprefix('$')).astype(float)"
   ]
  },
  {
   "cell_type": "code",
   "execution_count": 9,
   "metadata": {},
   "outputs": [
    {
     "data": {
      "text/html": [
       "<div>\n",
       "<style scoped>\n",
       "    .dataframe tbody tr th:only-of-type {\n",
       "        vertical-align: middle;\n",
       "    }\n",
       "\n",
       "    .dataframe tbody tr th {\n",
       "        vertical-align: top;\n",
       "    }\n",
       "\n",
       "    .dataframe thead th {\n",
       "        text-align: right;\n",
       "    }\n",
       "</style>\n",
       "<table border=\"1\" class=\"dataframe\">\n",
       "  <thead>\n",
       "    <tr style=\"text-align: right;\">\n",
       "      <th></th>\n",
       "      <th>id</th>\n",
       "      <th>client_id</th>\n",
       "      <th>card_brand</th>\n",
       "      <th>card_type</th>\n",
       "      <th>card_number</th>\n",
       "      <th>expires</th>\n",
       "      <th>cvv</th>\n",
       "      <th>has_chip</th>\n",
       "      <th>num_cards_issued</th>\n",
       "      <th>credit_limit</th>\n",
       "      <th>acct_open_date</th>\n",
       "      <th>year_pin_last_changed</th>\n",
       "      <th>card_on_dark_web</th>\n",
       "    </tr>\n",
       "  </thead>\n",
       "  <tbody>\n",
       "    <tr>\n",
       "      <th>0</th>\n",
       "      <td>4524</td>\n",
       "      <td>825</td>\n",
       "      <td>Visa</td>\n",
       "      <td>Debit</td>\n",
       "      <td>4344676511950444</td>\n",
       "      <td>2022-12-01</td>\n",
       "      <td>623</td>\n",
       "      <td>True</td>\n",
       "      <td>2</td>\n",
       "      <td>24295.0</td>\n",
       "      <td>2002-09-01</td>\n",
       "      <td>2008</td>\n",
       "      <td>False</td>\n",
       "    </tr>\n",
       "    <tr>\n",
       "      <th>1</th>\n",
       "      <td>2731</td>\n",
       "      <td>825</td>\n",
       "      <td>Visa</td>\n",
       "      <td>Debit</td>\n",
       "      <td>4956965974959986</td>\n",
       "      <td>2020-12-01</td>\n",
       "      <td>393</td>\n",
       "      <td>True</td>\n",
       "      <td>2</td>\n",
       "      <td>21968.0</td>\n",
       "      <td>2014-04-01</td>\n",
       "      <td>2014</td>\n",
       "      <td>False</td>\n",
       "    </tr>\n",
       "    <tr>\n",
       "      <th>2</th>\n",
       "      <td>3701</td>\n",
       "      <td>825</td>\n",
       "      <td>Visa</td>\n",
       "      <td>Debit</td>\n",
       "      <td>4582313478255491</td>\n",
       "      <td>2024-02-01</td>\n",
       "      <td>719</td>\n",
       "      <td>True</td>\n",
       "      <td>2</td>\n",
       "      <td>46414.0</td>\n",
       "      <td>2003-07-01</td>\n",
       "      <td>2004</td>\n",
       "      <td>False</td>\n",
       "    </tr>\n",
       "    <tr>\n",
       "      <th>3</th>\n",
       "      <td>42</td>\n",
       "      <td>825</td>\n",
       "      <td>Visa</td>\n",
       "      <td>Credit</td>\n",
       "      <td>4879494103069057</td>\n",
       "      <td>2024-08-01</td>\n",
       "      <td>693</td>\n",
       "      <td>False</td>\n",
       "      <td>1</td>\n",
       "      <td>12400.0</td>\n",
       "      <td>2003-01-01</td>\n",
       "      <td>2012</td>\n",
       "      <td>False</td>\n",
       "    </tr>\n",
       "    <tr>\n",
       "      <th>4</th>\n",
       "      <td>4659</td>\n",
       "      <td>825</td>\n",
       "      <td>Mastercard</td>\n",
       "      <td>Debit (Prepaid)</td>\n",
       "      <td>5722874738736011</td>\n",
       "      <td>2009-03-01</td>\n",
       "      <td>75</td>\n",
       "      <td>True</td>\n",
       "      <td>1</td>\n",
       "      <td>28.0</td>\n",
       "      <td>2008-09-01</td>\n",
       "      <td>2009</td>\n",
       "      <td>False</td>\n",
       "    </tr>\n",
       "  </tbody>\n",
       "</table>\n",
       "</div>"
      ],
      "text/plain": [
       "     id client_id  card_brand        card_type       card_number    expires  \\\n",
       "0  4524       825        Visa            Debit  4344676511950444 2022-12-01   \n",
       "1  2731       825        Visa            Debit  4956965974959986 2020-12-01   \n",
       "2  3701       825        Visa            Debit  4582313478255491 2024-02-01   \n",
       "3    42       825        Visa           Credit  4879494103069057 2024-08-01   \n",
       "4  4659       825  Mastercard  Debit (Prepaid)  5722874738736011 2009-03-01   \n",
       "\n",
       "   cvv  has_chip  num_cards_issued  credit_limit acct_open_date  \\\n",
       "0  623      True                 2       24295.0     2002-09-01   \n",
       "1  393      True                 2       21968.0     2014-04-01   \n",
       "2  719      True                 2       46414.0     2003-07-01   \n",
       "3  693     False                 1       12400.0     2003-01-01   \n",
       "4   75      True                 1          28.0     2008-09-01   \n",
       "\n",
       "   year_pin_last_changed  card_on_dark_web  \n",
       "0                   2008             False  \n",
       "1                   2014             False  \n",
       "2                   2004             False  \n",
       "3                   2012             False  \n",
       "4                   2009             False  "
      ]
     },
     "execution_count": 9,
     "metadata": {},
     "output_type": "execute_result"
    }
   ],
   "source": [
    "cards.head()"
   ]
  },
  {
   "cell_type": "code",
   "execution_count": 10,
   "metadata": {},
   "outputs": [
    {
     "name": "stdout",
     "output_type": "stream",
     "text": [
      "<class 'pandas.core.frame.DataFrame'>\n",
      "RangeIndex: 6146 entries, 0 to 6145\n",
      "Data columns (total 13 columns):\n",
      " #   Column                 Non-Null Count  Dtype         \n",
      "---  ------                 --------------  -----         \n",
      " 0   id                     6146 non-null   object        \n",
      " 1   client_id              6146 non-null   object        \n",
      " 2   card_brand             6146 non-null   object        \n",
      " 3   card_type              6146 non-null   object        \n",
      " 4   card_number            6146 non-null   object        \n",
      " 5   expires                6146 non-null   datetime64[ns]\n",
      " 6   cvv                    6146 non-null   object        \n",
      " 7   has_chip               6146 non-null   bool          \n",
      " 8   num_cards_issued       6146 non-null   int64         \n",
      " 9   credit_limit           6146 non-null   float64       \n",
      " 10  acct_open_date         6146 non-null   datetime64[ns]\n",
      " 11  year_pin_last_changed  6146 non-null   int64         \n",
      " 12  card_on_dark_web       6146 non-null   bool          \n",
      "dtypes: bool(2), datetime64[ns](2), float64(1), int64(2), object(6)\n",
      "memory usage: 540.3+ KB\n"
     ]
    }
   ],
   "source": [
    "cards.info()"
   ]
  },
  {
   "cell_type": "code",
   "execution_count": 11,
   "metadata": {},
   "outputs": [
    {
     "data": {
      "text/html": [
       "<div>\n",
       "<style scoped>\n",
       "    .dataframe tbody tr th:only-of-type {\n",
       "        vertical-align: middle;\n",
       "    }\n",
       "\n",
       "    .dataframe tbody tr th {\n",
       "        vertical-align: top;\n",
       "    }\n",
       "\n",
       "    .dataframe thead th {\n",
       "        text-align: right;\n",
       "    }\n",
       "</style>\n",
       "<table border=\"1\" class=\"dataframe\">\n",
       "  <thead>\n",
       "    <tr style=\"text-align: right;\">\n",
       "      <th></th>\n",
       "      <th>expires</th>\n",
       "      <th>num_cards_issued</th>\n",
       "      <th>credit_limit</th>\n",
       "      <th>acct_open_date</th>\n",
       "      <th>year_pin_last_changed</th>\n",
       "    </tr>\n",
       "  </thead>\n",
       "  <tbody>\n",
       "    <tr>\n",
       "      <th>count</th>\n",
       "      <td>6146</td>\n",
       "      <td>6146.000000</td>\n",
       "      <td>6146.000000</td>\n",
       "      <td>6146</td>\n",
       "      <td>6146.000000</td>\n",
       "    </tr>\n",
       "    <tr>\n",
       "      <th>mean</th>\n",
       "      <td>2020-10-08 06:30:06.443215360</td>\n",
       "      <td>1.503091</td>\n",
       "      <td>14347.493980</td>\n",
       "      <td>2011-01-15 12:55:31.727953152</td>\n",
       "      <td>2013.436707</td>\n",
       "    </tr>\n",
       "    <tr>\n",
       "      <th>min</th>\n",
       "      <td>1997-07-01 00:00:00</td>\n",
       "      <td>1.000000</td>\n",
       "      <td>0.000000</td>\n",
       "      <td>1991-01-01 00:00:00</td>\n",
       "      <td>2002.000000</td>\n",
       "    </tr>\n",
       "    <tr>\n",
       "      <th>25%</th>\n",
       "      <td>2020-02-01 00:00:00</td>\n",
       "      <td>1.000000</td>\n",
       "      <td>7042.750000</td>\n",
       "      <td>2006-10-01 00:00:00</td>\n",
       "      <td>2010.000000</td>\n",
       "    </tr>\n",
       "    <tr>\n",
       "      <th>50%</th>\n",
       "      <td>2021-09-01 00:00:00</td>\n",
       "      <td>1.000000</td>\n",
       "      <td>12592.500000</td>\n",
       "      <td>2010-02-15 00:00:00</td>\n",
       "      <td>2013.000000</td>\n",
       "    </tr>\n",
       "    <tr>\n",
       "      <th>75%</th>\n",
       "      <td>2023-05-01 00:00:00</td>\n",
       "      <td>2.000000</td>\n",
       "      <td>19156.500000</td>\n",
       "      <td>2016-05-01 00:00:00</td>\n",
       "      <td>2017.000000</td>\n",
       "    </tr>\n",
       "    <tr>\n",
       "      <th>max</th>\n",
       "      <td>2024-12-01 00:00:00</td>\n",
       "      <td>3.000000</td>\n",
       "      <td>151223.000000</td>\n",
       "      <td>2020-02-01 00:00:00</td>\n",
       "      <td>2020.000000</td>\n",
       "    </tr>\n",
       "    <tr>\n",
       "      <th>std</th>\n",
       "      <td>NaN</td>\n",
       "      <td>0.519191</td>\n",
       "      <td>12014.463884</td>\n",
       "      <td>NaN</td>\n",
       "      <td>4.270699</td>\n",
       "    </tr>\n",
       "  </tbody>\n",
       "</table>\n",
       "</div>"
      ],
      "text/plain": [
       "                             expires  num_cards_issued   credit_limit  \\\n",
       "count                           6146       6146.000000    6146.000000   \n",
       "mean   2020-10-08 06:30:06.443215360          1.503091   14347.493980   \n",
       "min              1997-07-01 00:00:00          1.000000       0.000000   \n",
       "25%              2020-02-01 00:00:00          1.000000    7042.750000   \n",
       "50%              2021-09-01 00:00:00          1.000000   12592.500000   \n",
       "75%              2023-05-01 00:00:00          2.000000   19156.500000   \n",
       "max              2024-12-01 00:00:00          3.000000  151223.000000   \n",
       "std                              NaN          0.519191   12014.463884   \n",
       "\n",
       "                      acct_open_date  year_pin_last_changed  \n",
       "count                           6146            6146.000000  \n",
       "mean   2011-01-15 12:55:31.727953152            2013.436707  \n",
       "min              1991-01-01 00:00:00            2002.000000  \n",
       "25%              2006-10-01 00:00:00            2010.000000  \n",
       "50%              2010-02-15 00:00:00            2013.000000  \n",
       "75%              2016-05-01 00:00:00            2017.000000  \n",
       "max              2020-02-01 00:00:00            2020.000000  \n",
       "std                              NaN               4.270699  "
      ]
     },
     "execution_count": 11,
     "metadata": {},
     "output_type": "execute_result"
    }
   ],
   "source": [
    "cards.describe()"
   ]
  },
  {
   "cell_type": "code",
   "execution_count": 12,
   "metadata": {},
   "outputs": [
    {
     "data": {
      "text/html": [
       "<div>\n",
       "<style scoped>\n",
       "    .dataframe tbody tr th:only-of-type {\n",
       "        vertical-align: middle;\n",
       "    }\n",
       "\n",
       "    .dataframe tbody tr th {\n",
       "        vertical-align: top;\n",
       "    }\n",
       "\n",
       "    .dataframe thead th {\n",
       "        text-align: right;\n",
       "    }\n",
       "</style>\n",
       "<table border=\"1\" class=\"dataframe\">\n",
       "  <thead>\n",
       "    <tr style=\"text-align: right;\">\n",
       "      <th></th>\n",
       "      <th>mcc</th>\n",
       "      <th>category</th>\n",
       "    </tr>\n",
       "  </thead>\n",
       "  <tbody>\n",
       "    <tr>\n",
       "      <th>0</th>\n",
       "      <td>5812</td>\n",
       "      <td>Eating Places and Restaurants</td>\n",
       "    </tr>\n",
       "    <tr>\n",
       "      <th>1</th>\n",
       "      <td>5541</td>\n",
       "      <td>Service Stations</td>\n",
       "    </tr>\n",
       "    <tr>\n",
       "      <th>2</th>\n",
       "      <td>7996</td>\n",
       "      <td>Amusement Parks, Carnivals, Circuses</td>\n",
       "    </tr>\n",
       "    <tr>\n",
       "      <th>3</th>\n",
       "      <td>5411</td>\n",
       "      <td>Grocery Stores, Supermarkets</td>\n",
       "    </tr>\n",
       "    <tr>\n",
       "      <th>4</th>\n",
       "      <td>4784</td>\n",
       "      <td>Tolls and Bridge Fees</td>\n",
       "    </tr>\n",
       "  </tbody>\n",
       "</table>\n",
       "</div>"
      ],
      "text/plain": [
       "    mcc                              category\n",
       "0  5812         Eating Places and Restaurants\n",
       "1  5541                      Service Stations\n",
       "2  7996  Amusement Parks, Carnivals, Circuses\n",
       "3  5411          Grocery Stores, Supermarkets\n",
       "4  4784                 Tolls and Bridge Fees"
      ]
     },
     "execution_count": 12,
     "metadata": {},
     "output_type": "execute_result"
    }
   ],
   "source": [
    "mcc_codes.head()"
   ]
  },
  {
   "cell_type": "code",
   "execution_count": 13,
   "metadata": {},
   "outputs": [
    {
     "name": "stdout",
     "output_type": "stream",
     "text": [
      "<class 'pandas.core.frame.DataFrame'>\n",
      "RangeIndex: 109 entries, 0 to 108\n",
      "Data columns (total 2 columns):\n",
      " #   Column    Non-Null Count  Dtype \n",
      "---  ------    --------------  ----- \n",
      " 0   mcc       109 non-null    object\n",
      " 1   category  109 non-null    object\n",
      "dtypes: object(2)\n",
      "memory usage: 1.8+ KB\n"
     ]
    }
   ],
   "source": [
    "mcc_codes.info()"
   ]
  },
  {
   "cell_type": "code",
   "execution_count": 14,
   "metadata": {},
   "outputs": [
    {
     "data": {
      "text/html": [
       "<div>\n",
       "<style scoped>\n",
       "    .dataframe tbody tr th:only-of-type {\n",
       "        vertical-align: middle;\n",
       "    }\n",
       "\n",
       "    .dataframe tbody tr th {\n",
       "        vertical-align: top;\n",
       "    }\n",
       "\n",
       "    .dataframe thead th {\n",
       "        text-align: right;\n",
       "    }\n",
       "</style>\n",
       "<table border=\"1\" class=\"dataframe\">\n",
       "  <thead>\n",
       "    <tr style=\"text-align: right;\">\n",
       "      <th></th>\n",
       "      <th>transaction_id</th>\n",
       "      <th>target</th>\n",
       "    </tr>\n",
       "  </thead>\n",
       "  <tbody>\n",
       "    <tr>\n",
       "      <th>0</th>\n",
       "      <td>10649266</td>\n",
       "      <td>0</td>\n",
       "    </tr>\n",
       "    <tr>\n",
       "      <th>1</th>\n",
       "      <td>23410063</td>\n",
       "      <td>0</td>\n",
       "    </tr>\n",
       "    <tr>\n",
       "      <th>2</th>\n",
       "      <td>9316588</td>\n",
       "      <td>0</td>\n",
       "    </tr>\n",
       "    <tr>\n",
       "      <th>3</th>\n",
       "      <td>12478022</td>\n",
       "      <td>0</td>\n",
       "    </tr>\n",
       "    <tr>\n",
       "      <th>4</th>\n",
       "      <td>9558530</td>\n",
       "      <td>0</td>\n",
       "    </tr>\n",
       "  </tbody>\n",
       "</table>\n",
       "</div>"
      ],
      "text/plain": [
       "  transaction_id  target\n",
       "0       10649266       0\n",
       "1       23410063       0\n",
       "2        9316588       0\n",
       "3       12478022       0\n",
       "4        9558530       0"
      ]
     },
     "execution_count": 14,
     "metadata": {},
     "output_type": "execute_result"
    }
   ],
   "source": [
    "fraud_labels.head()"
   ]
  },
  {
   "cell_type": "code",
   "execution_count": 15,
   "metadata": {},
   "outputs": [
    {
     "name": "stdout",
     "output_type": "stream",
     "text": [
      "<class 'pandas.core.frame.DataFrame'>\n",
      "RangeIndex: 8914963 entries, 0 to 8914962\n",
      "Data columns (total 2 columns):\n",
      " #   Column          Dtype \n",
      "---  ------          ----- \n",
      " 0   transaction_id  object\n",
      " 1   target          int64 \n",
      "dtypes: int64(1), object(1)\n",
      "memory usage: 136.0+ MB\n"
     ]
    }
   ],
   "source": [
    "fraud_labels.info()"
   ]
  },
  {
   "cell_type": "code",
   "execution_count": 16,
   "metadata": {},
   "outputs": [
    {
     "data": {
      "text/plain": [
       "target\n",
       "0    8901631\n",
       "1      13332\n",
       "Name: count, dtype: int64"
      ]
     },
     "execution_count": 16,
     "metadata": {},
     "output_type": "execute_result"
    }
   ],
   "source": [
    "fraud_labels['target'].value_counts()"
   ]
  },
  {
   "cell_type": "code",
   "execution_count": 17,
   "metadata": {},
   "outputs": [
    {
     "data": {
      "text/html": [
       "<div>\n",
       "<style scoped>\n",
       "    .dataframe tbody tr th:only-of-type {\n",
       "        vertical-align: middle;\n",
       "    }\n",
       "\n",
       "    .dataframe tbody tr th {\n",
       "        vertical-align: top;\n",
       "    }\n",
       "\n",
       "    .dataframe thead th {\n",
       "        text-align: right;\n",
       "    }\n",
       "</style>\n",
       "<table border=\"1\" class=\"dataframe\">\n",
       "  <thead>\n",
       "    <tr style=\"text-align: right;\">\n",
       "      <th></th>\n",
       "      <th>id</th>\n",
       "      <th>date</th>\n",
       "      <th>client_id</th>\n",
       "      <th>card_id</th>\n",
       "      <th>amount</th>\n",
       "      <th>use_chip</th>\n",
       "      <th>merchant_id</th>\n",
       "      <th>merchant_city</th>\n",
       "      <th>merchant_state</th>\n",
       "      <th>zip</th>\n",
       "      <th>mcc</th>\n",
       "      <th>errors</th>\n",
       "    </tr>\n",
       "  </thead>\n",
       "  <tbody>\n",
       "    <tr>\n",
       "      <th>0</th>\n",
       "      <td>7475327</td>\n",
       "      <td>2010-01-01 00:01:00</td>\n",
       "      <td>1556</td>\n",
       "      <td>2972</td>\n",
       "      <td>-77.00</td>\n",
       "      <td>Swipe Transaction</td>\n",
       "      <td>59935</td>\n",
       "      <td>Beulah</td>\n",
       "      <td>ND</td>\n",
       "      <td>58523.0</td>\n",
       "      <td>5499</td>\n",
       "      <td>NaN</td>\n",
       "    </tr>\n",
       "    <tr>\n",
       "      <th>1</th>\n",
       "      <td>7475328</td>\n",
       "      <td>2010-01-01 00:02:00</td>\n",
       "      <td>561</td>\n",
       "      <td>4575</td>\n",
       "      <td>14.57</td>\n",
       "      <td>Swipe Transaction</td>\n",
       "      <td>67570</td>\n",
       "      <td>Bettendorf</td>\n",
       "      <td>IA</td>\n",
       "      <td>52722.0</td>\n",
       "      <td>5311</td>\n",
       "      <td>NaN</td>\n",
       "    </tr>\n",
       "    <tr>\n",
       "      <th>2</th>\n",
       "      <td>7475329</td>\n",
       "      <td>2010-01-01 00:02:00</td>\n",
       "      <td>1129</td>\n",
       "      <td>102</td>\n",
       "      <td>80.00</td>\n",
       "      <td>Swipe Transaction</td>\n",
       "      <td>27092</td>\n",
       "      <td>Vista</td>\n",
       "      <td>CA</td>\n",
       "      <td>92084.0</td>\n",
       "      <td>4829</td>\n",
       "      <td>NaN</td>\n",
       "    </tr>\n",
       "    <tr>\n",
       "      <th>3</th>\n",
       "      <td>7475331</td>\n",
       "      <td>2010-01-01 00:05:00</td>\n",
       "      <td>430</td>\n",
       "      <td>2860</td>\n",
       "      <td>200.00</td>\n",
       "      <td>Swipe Transaction</td>\n",
       "      <td>27092</td>\n",
       "      <td>Crown Point</td>\n",
       "      <td>IN</td>\n",
       "      <td>46307.0</td>\n",
       "      <td>4829</td>\n",
       "      <td>NaN</td>\n",
       "    </tr>\n",
       "    <tr>\n",
       "      <th>4</th>\n",
       "      <td>7475332</td>\n",
       "      <td>2010-01-01 00:06:00</td>\n",
       "      <td>848</td>\n",
       "      <td>3915</td>\n",
       "      <td>46.41</td>\n",
       "      <td>Swipe Transaction</td>\n",
       "      <td>13051</td>\n",
       "      <td>Harwood</td>\n",
       "      <td>MD</td>\n",
       "      <td>20776.0</td>\n",
       "      <td>5813</td>\n",
       "      <td>NaN</td>\n",
       "    </tr>\n",
       "  </tbody>\n",
       "</table>\n",
       "</div>"
      ],
      "text/plain": [
       "        id                date client_id card_id  amount           use_chip  \\\n",
       "0  7475327 2010-01-01 00:01:00      1556    2972  -77.00  Swipe Transaction   \n",
       "1  7475328 2010-01-01 00:02:00       561    4575   14.57  Swipe Transaction   \n",
       "2  7475329 2010-01-01 00:02:00      1129     102   80.00  Swipe Transaction   \n",
       "3  7475331 2010-01-01 00:05:00       430    2860  200.00  Swipe Transaction   \n",
       "4  7475332 2010-01-01 00:06:00       848    3915   46.41  Swipe Transaction   \n",
       "\n",
       "  merchant_id merchant_city merchant_state      zip   mcc errors  \n",
       "0       59935        Beulah             ND  58523.0  5499    NaN  \n",
       "1       67570    Bettendorf             IA  52722.0  5311    NaN  \n",
       "2       27092         Vista             CA  92084.0  4829    NaN  \n",
       "3       27092   Crown Point             IN  46307.0  4829    NaN  \n",
       "4       13051       Harwood             MD  20776.0  5813    NaN  "
      ]
     },
     "execution_count": 17,
     "metadata": {},
     "output_type": "execute_result"
    }
   ],
   "source": [
    "transactions.head()"
   ]
  },
  {
   "cell_type": "code",
   "execution_count": 18,
   "metadata": {},
   "outputs": [
    {
     "name": "stdout",
     "output_type": "stream",
     "text": [
      "<class 'pandas.core.frame.DataFrame'>\n",
      "RangeIndex: 13305915 entries, 0 to 13305914\n",
      "Data columns (total 12 columns):\n",
      " #   Column          Dtype         \n",
      "---  ------          -----         \n",
      " 0   id              object        \n",
      " 1   date            datetime64[ns]\n",
      " 2   client_id       object        \n",
      " 3   card_id         object        \n",
      " 4   amount          float64       \n",
      " 5   use_chip        object        \n",
      " 6   merchant_id     object        \n",
      " 7   merchant_city   object        \n",
      " 8   merchant_state  object        \n",
      " 9   zip             object        \n",
      " 10  mcc             object        \n",
      " 11  errors          object        \n",
      "dtypes: datetime64[ns](1), float64(1), object(10)\n",
      "memory usage: 1.2+ GB\n"
     ]
    }
   ],
   "source": [
    "transactions.info()"
   ]
  },
  {
   "cell_type": "markdown",
   "metadata": {},
   "source": [
    "#### Investigate the most frequent errors"
   ]
  },
  {
   "cell_type": "code",
   "execution_count": 20,
   "metadata": {},
   "outputs": [],
   "source": [
    "transactions['merchant_state'] = transactions['merchant_state'].replace(r'^[A-Z]{2}$', 'United States', regex=True)"
   ]
  },
  {
   "cell_type": "code",
   "execution_count": 21,
   "metadata": {},
   "outputs": [
    {
     "data": {
      "text/html": [
       "<div>\n",
       "<style scoped>\n",
       "    .dataframe tbody tr th:only-of-type {\n",
       "        vertical-align: middle;\n",
       "    }\n",
       "\n",
       "    .dataframe tbody tr th {\n",
       "        vertical-align: top;\n",
       "    }\n",
       "\n",
       "    .dataframe thead th {\n",
       "        text-align: right;\n",
       "    }\n",
       "</style>\n",
       "<table border=\"1\" class=\"dataframe\">\n",
       "  <thead>\n",
       "    <tr style=\"text-align: right;\">\n",
       "      <th></th>\n",
       "      <th>id</th>\n",
       "      <th>date</th>\n",
       "      <th>client_id</th>\n",
       "      <th>card_id</th>\n",
       "      <th>amount</th>\n",
       "      <th>use_chip</th>\n",
       "      <th>merchant_id</th>\n",
       "      <th>merchant_city</th>\n",
       "      <th>merchant_state</th>\n",
       "      <th>zip</th>\n",
       "      <th>mcc</th>\n",
       "      <th>errors</th>\n",
       "      <th>date_part</th>\n",
       "      <th>time_part</th>\n",
       "    </tr>\n",
       "  </thead>\n",
       "  <tbody>\n",
       "    <tr>\n",
       "      <th>0</th>\n",
       "      <td>7475327</td>\n",
       "      <td>2010-01-01 00:01:00</td>\n",
       "      <td>1556</td>\n",
       "      <td>2972</td>\n",
       "      <td>-77.00</td>\n",
       "      <td>Swipe Transaction</td>\n",
       "      <td>59935</td>\n",
       "      <td>Beulah</td>\n",
       "      <td>United States</td>\n",
       "      <td>58523.0</td>\n",
       "      <td>5499</td>\n",
       "      <td>NaN</td>\n",
       "      <td>2010-01-01</td>\n",
       "      <td>00:01:00</td>\n",
       "    </tr>\n",
       "    <tr>\n",
       "      <th>1</th>\n",
       "      <td>7475328</td>\n",
       "      <td>2010-01-01 00:02:00</td>\n",
       "      <td>561</td>\n",
       "      <td>4575</td>\n",
       "      <td>14.57</td>\n",
       "      <td>Swipe Transaction</td>\n",
       "      <td>67570</td>\n",
       "      <td>Bettendorf</td>\n",
       "      <td>United States</td>\n",
       "      <td>52722.0</td>\n",
       "      <td>5311</td>\n",
       "      <td>NaN</td>\n",
       "      <td>2010-01-01</td>\n",
       "      <td>00:02:00</td>\n",
       "    </tr>\n",
       "    <tr>\n",
       "      <th>2</th>\n",
       "      <td>7475329</td>\n",
       "      <td>2010-01-01 00:02:00</td>\n",
       "      <td>1129</td>\n",
       "      <td>102</td>\n",
       "      <td>80.00</td>\n",
       "      <td>Swipe Transaction</td>\n",
       "      <td>27092</td>\n",
       "      <td>Vista</td>\n",
       "      <td>United States</td>\n",
       "      <td>92084.0</td>\n",
       "      <td>4829</td>\n",
       "      <td>NaN</td>\n",
       "      <td>2010-01-01</td>\n",
       "      <td>00:02:00</td>\n",
       "    </tr>\n",
       "    <tr>\n",
       "      <th>3</th>\n",
       "      <td>7475331</td>\n",
       "      <td>2010-01-01 00:05:00</td>\n",
       "      <td>430</td>\n",
       "      <td>2860</td>\n",
       "      <td>200.00</td>\n",
       "      <td>Swipe Transaction</td>\n",
       "      <td>27092</td>\n",
       "      <td>Crown Point</td>\n",
       "      <td>United States</td>\n",
       "      <td>46307.0</td>\n",
       "      <td>4829</td>\n",
       "      <td>NaN</td>\n",
       "      <td>2010-01-01</td>\n",
       "      <td>00:05:00</td>\n",
       "    </tr>\n",
       "    <tr>\n",
       "      <th>4</th>\n",
       "      <td>7475332</td>\n",
       "      <td>2010-01-01 00:06:00</td>\n",
       "      <td>848</td>\n",
       "      <td>3915</td>\n",
       "      <td>46.41</td>\n",
       "      <td>Swipe Transaction</td>\n",
       "      <td>13051</td>\n",
       "      <td>Harwood</td>\n",
       "      <td>United States</td>\n",
       "      <td>20776.0</td>\n",
       "      <td>5813</td>\n",
       "      <td>NaN</td>\n",
       "      <td>2010-01-01</td>\n",
       "      <td>00:06:00</td>\n",
       "    </tr>\n",
       "  </tbody>\n",
       "</table>\n",
       "</div>"
      ],
      "text/plain": [
       "        id                date client_id card_id  amount           use_chip  \\\n",
       "0  7475327 2010-01-01 00:01:00      1556    2972  -77.00  Swipe Transaction   \n",
       "1  7475328 2010-01-01 00:02:00       561    4575   14.57  Swipe Transaction   \n",
       "2  7475329 2010-01-01 00:02:00      1129     102   80.00  Swipe Transaction   \n",
       "3  7475331 2010-01-01 00:05:00       430    2860  200.00  Swipe Transaction   \n",
       "4  7475332 2010-01-01 00:06:00       848    3915   46.41  Swipe Transaction   \n",
       "\n",
       "  merchant_id merchant_city merchant_state      zip   mcc errors   date_part  \\\n",
       "0       59935        Beulah  United States  58523.0  5499    NaN  2010-01-01   \n",
       "1       67570    Bettendorf  United States  52722.0  5311    NaN  2010-01-01   \n",
       "2       27092         Vista  United States  92084.0  4829    NaN  2010-01-01   \n",
       "3       27092   Crown Point  United States  46307.0  4829    NaN  2010-01-01   \n",
       "4       13051       Harwood  United States  20776.0  5813    NaN  2010-01-01   \n",
       "\n",
       "  time_part  \n",
       "0  00:01:00  \n",
       "1  00:02:00  \n",
       "2  00:02:00  \n",
       "3  00:05:00  \n",
       "4  00:06:00  "
      ]
     },
     "execution_count": 21,
     "metadata": {},
     "output_type": "execute_result"
    }
   ],
   "source": [
    "transactions['date'] = pd.to_datetime(transactions['date'])\n",
    "transactions['date_part'] = transactions['date'].dt.date\n",
    "transactions['time_part'] = transactions['date'].dt.time\n",
    "transactions.head(5)"
   ]
  },
  {
   "cell_type": "code",
   "execution_count": 22,
   "metadata": {},
   "outputs": [
    {
     "data": {
      "text/html": [
       "<div>\n",
       "<style scoped>\n",
       "    .dataframe tbody tr th:only-of-type {\n",
       "        vertical-align: middle;\n",
       "    }\n",
       "\n",
       "    .dataframe tbody tr th {\n",
       "        vertical-align: top;\n",
       "    }\n",
       "\n",
       "    .dataframe thead th {\n",
       "        text-align: right;\n",
       "    }\n",
       "</style>\n",
       "<table border=\"1\" class=\"dataframe\">\n",
       "  <thead>\n",
       "    <tr style=\"text-align: right;\">\n",
       "      <th></th>\n",
       "      <th>date_part</th>\n",
       "      <th>amount</th>\n",
       "    </tr>\n",
       "  </thead>\n",
       "  <tbody>\n",
       "    <tr>\n",
       "      <th>0</th>\n",
       "      <td>2010-01-01</td>\n",
       "      <td>124498.32</td>\n",
       "    </tr>\n",
       "    <tr>\n",
       "      <th>1</th>\n",
       "      <td>2010-01-02</td>\n",
       "      <td>138700.62</td>\n",
       "    </tr>\n",
       "    <tr>\n",
       "      <th>2</th>\n",
       "      <td>2010-01-03</td>\n",
       "      <td>135016.77</td>\n",
       "    </tr>\n",
       "    <tr>\n",
       "      <th>3</th>\n",
       "      <td>2010-01-04</td>\n",
       "      <td>131315.75</td>\n",
       "    </tr>\n",
       "    <tr>\n",
       "      <th>4</th>\n",
       "      <td>2010-01-05</td>\n",
       "      <td>143760.66</td>\n",
       "    </tr>\n",
       "    <tr>\n",
       "      <th>...</th>\n",
       "      <td>...</td>\n",
       "      <td>...</td>\n",
       "    </tr>\n",
       "    <tr>\n",
       "      <th>3586</th>\n",
       "      <td>2019-10-27</td>\n",
       "      <td>154794.08</td>\n",
       "    </tr>\n",
       "    <tr>\n",
       "      <th>3587</th>\n",
       "      <td>2019-10-28</td>\n",
       "      <td>168231.71</td>\n",
       "    </tr>\n",
       "    <tr>\n",
       "      <th>3588</th>\n",
       "      <td>2019-10-29</td>\n",
       "      <td>160928.07</td>\n",
       "    </tr>\n",
       "    <tr>\n",
       "      <th>3589</th>\n",
       "      <td>2019-10-30</td>\n",
       "      <td>157791.07</td>\n",
       "    </tr>\n",
       "    <tr>\n",
       "      <th>3590</th>\n",
       "      <td>2019-10-31</td>\n",
       "      <td>158747.19</td>\n",
       "    </tr>\n",
       "  </tbody>\n",
       "</table>\n",
       "<p>3591 rows × 2 columns</p>\n",
       "</div>"
      ],
      "text/plain": [
       "       date_part     amount\n",
       "0     2010-01-01  124498.32\n",
       "1     2010-01-02  138700.62\n",
       "2     2010-01-03  135016.77\n",
       "3     2010-01-04  131315.75\n",
       "4     2010-01-05  143760.66\n",
       "...          ...        ...\n",
       "3586  2019-10-27  154794.08\n",
       "3587  2019-10-28  168231.71\n",
       "3588  2019-10-29  160928.07\n",
       "3589  2019-10-30  157791.07\n",
       "3590  2019-10-31  158747.19\n",
       "\n",
       "[3591 rows x 2 columns]"
      ]
     },
     "execution_count": 22,
     "metadata": {},
     "output_type": "execute_result"
    }
   ],
   "source": [
    "transactions.groupby('date_part', as_index = False)['amount'].sum()"
   ]
  },
  {
   "cell_type": "code",
   "execution_count": 23,
   "metadata": {},
   "outputs": [
    {
     "data": {
      "text/plain": [
       "errors\n",
       "NaN                                                    13094522\n",
       "Insufficient Balance                                     130902\n",
       "Bad PIN                                                   32119\n",
       "Technical Glitch                                          26271\n",
       "Bad Card Number                                            7767\n",
       "Bad Expiration                                             6161\n",
       "Bad CVV                                                    6106\n",
       "Bad Zipcode                                                1126\n",
       "Bad PIN,Insufficient Balance                                293\n",
       "Insufficient Balance,Technical Glitch                       243\n",
       "Bad Card Number,Insufficient Balance                         71\n",
       "Bad PIN,Technical Glitch                                     70\n",
       "Bad CVV,Insufficient Balance                                 57\n",
       "Bad Expiration,Insufficient Balance                          47\n",
       "Bad Card Number,Bad CVV                                      38\n",
       "Bad Card Number,Bad Expiration                               33\n",
       "Bad Expiration,Bad CVV                                       32\n",
       "Bad Expiration,Technical Glitch                              21\n",
       "Bad Card Number,Technical Glitch                             15\n",
       "Bad CVV,Technical Glitch                                      8\n",
       "Bad Zipcode,Insufficient Balance                              7\n",
       "Bad Zipcode,Technical Glitch                                  5\n",
       "Bad Card Number,Bad Expiration,Insufficient Balance           1\n",
       "Name: count, dtype: int64"
      ]
     },
     "execution_count": 23,
     "metadata": {},
     "output_type": "execute_result"
    }
   ],
   "source": [
    "transactions['errors'].value_counts(dropna=False)"
   ]
  },
  {
   "cell_type": "markdown",
   "metadata": {},
   "source": [
    "Since both values are the same, it implies that the fraud rate for failed transactions is nearly identical to the fraud rate across all transactions. This could suggest that fraud risk is evenly distributed or that failures are not specifically more likely to be fraudulent than successful transactions."
   ]
  },
  {
   "cell_type": "code",
   "execution_count": 25,
   "metadata": {
    "scrolled": true
   },
   "outputs": [
    {
     "data": {
      "text/html": [
       "<div>\n",
       "<style scoped>\n",
       "    .dataframe tbody tr th:only-of-type {\n",
       "        vertical-align: middle;\n",
       "    }\n",
       "\n",
       "    .dataframe tbody tr th {\n",
       "        vertical-align: top;\n",
       "    }\n",
       "\n",
       "    .dataframe thead th {\n",
       "        text-align: right;\n",
       "    }\n",
       "</style>\n",
       "<table border=\"1\" class=\"dataframe\">\n",
       "  <thead>\n",
       "    <tr style=\"text-align: right;\">\n",
       "      <th></th>\n",
       "      <th>id</th>\n",
       "      <th>current_age</th>\n",
       "      <th>retirement_age</th>\n",
       "      <th>birth_year</th>\n",
       "      <th>birth_month</th>\n",
       "      <th>gender</th>\n",
       "      <th>address</th>\n",
       "      <th>latitude</th>\n",
       "      <th>longitude</th>\n",
       "      <th>per_capita_income</th>\n",
       "      <th>yearly_income</th>\n",
       "      <th>total_debt</th>\n",
       "      <th>credit_score</th>\n",
       "      <th>num_credit_cards</th>\n",
       "    </tr>\n",
       "  </thead>\n",
       "  <tbody>\n",
       "    <tr>\n",
       "      <th>0</th>\n",
       "      <td>825</td>\n",
       "      <td>53</td>\n",
       "      <td>66</td>\n",
       "      <td>1966</td>\n",
       "      <td>11</td>\n",
       "      <td>Female</td>\n",
       "      <td>462 Rose Lane</td>\n",
       "      <td>34.15</td>\n",
       "      <td>-117.76</td>\n",
       "      <td>29278.0</td>\n",
       "      <td>59696.0</td>\n",
       "      <td>127613.0</td>\n",
       "      <td>787</td>\n",
       "      <td>5</td>\n",
       "    </tr>\n",
       "    <tr>\n",
       "      <th>1</th>\n",
       "      <td>1746</td>\n",
       "      <td>53</td>\n",
       "      <td>68</td>\n",
       "      <td>1966</td>\n",
       "      <td>12</td>\n",
       "      <td>Female</td>\n",
       "      <td>3606 Federal Boulevard</td>\n",
       "      <td>40.76</td>\n",
       "      <td>-73.74</td>\n",
       "      <td>37891.0</td>\n",
       "      <td>77254.0</td>\n",
       "      <td>191349.0</td>\n",
       "      <td>701</td>\n",
       "      <td>5</td>\n",
       "    </tr>\n",
       "    <tr>\n",
       "      <th>2</th>\n",
       "      <td>1718</td>\n",
       "      <td>81</td>\n",
       "      <td>67</td>\n",
       "      <td>1938</td>\n",
       "      <td>11</td>\n",
       "      <td>Female</td>\n",
       "      <td>766 Third Drive</td>\n",
       "      <td>34.02</td>\n",
       "      <td>-117.89</td>\n",
       "      <td>22681.0</td>\n",
       "      <td>33483.0</td>\n",
       "      <td>196.0</td>\n",
       "      <td>698</td>\n",
       "      <td>5</td>\n",
       "    </tr>\n",
       "    <tr>\n",
       "      <th>3</th>\n",
       "      <td>708</td>\n",
       "      <td>63</td>\n",
       "      <td>63</td>\n",
       "      <td>1957</td>\n",
       "      <td>1</td>\n",
       "      <td>Female</td>\n",
       "      <td>3 Madison Street</td>\n",
       "      <td>40.71</td>\n",
       "      <td>-73.99</td>\n",
       "      <td>163145.0</td>\n",
       "      <td>249925.0</td>\n",
       "      <td>202328.0</td>\n",
       "      <td>722</td>\n",
       "      <td>4</td>\n",
       "    </tr>\n",
       "    <tr>\n",
       "      <th>4</th>\n",
       "      <td>1164</td>\n",
       "      <td>43</td>\n",
       "      <td>70</td>\n",
       "      <td>1976</td>\n",
       "      <td>9</td>\n",
       "      <td>Male</td>\n",
       "      <td>9620 Valley Stream Drive</td>\n",
       "      <td>37.76</td>\n",
       "      <td>-122.44</td>\n",
       "      <td>53797.0</td>\n",
       "      <td>109687.0</td>\n",
       "      <td>183855.0</td>\n",
       "      <td>675</td>\n",
       "      <td>1</td>\n",
       "    </tr>\n",
       "  </tbody>\n",
       "</table>\n",
       "</div>"
      ],
      "text/plain": [
       "     id  current_age  retirement_age  birth_year  birth_month  gender  \\\n",
       "0   825           53              66        1966           11  Female   \n",
       "1  1746           53              68        1966           12  Female   \n",
       "2  1718           81              67        1938           11  Female   \n",
       "3   708           63              63        1957            1  Female   \n",
       "4  1164           43              70        1976            9    Male   \n",
       "\n",
       "                    address  latitude  longitude  per_capita_income  \\\n",
       "0             462 Rose Lane     34.15    -117.76            29278.0   \n",
       "1    3606 Federal Boulevard     40.76     -73.74            37891.0   \n",
       "2           766 Third Drive     34.02    -117.89            22681.0   \n",
       "3          3 Madison Street     40.71     -73.99           163145.0   \n",
       "4  9620 Valley Stream Drive     37.76    -122.44            53797.0   \n",
       "\n",
       "   yearly_income  total_debt  credit_score  num_credit_cards  \n",
       "0        59696.0    127613.0           787                 5  \n",
       "1        77254.0    191349.0           701                 5  \n",
       "2        33483.0       196.0           698                 5  \n",
       "3       249925.0    202328.0           722                 4  \n",
       "4       109687.0    183855.0           675                 1  "
      ]
     },
     "execution_count": 25,
     "metadata": {},
     "output_type": "execute_result"
    }
   ],
   "source": [
    "users.head()"
   ]
  },
  {
   "cell_type": "code",
   "execution_count": 26,
   "metadata": {},
   "outputs": [
    {
     "name": "stdout",
     "output_type": "stream",
     "text": [
      "<class 'pandas.core.frame.DataFrame'>\n",
      "RangeIndex: 2000 entries, 0 to 1999\n",
      "Data columns (total 14 columns):\n",
      " #   Column             Non-Null Count  Dtype  \n",
      "---  ------             --------------  -----  \n",
      " 0   id                 2000 non-null   object \n",
      " 1   current_age        2000 non-null   int64  \n",
      " 2   retirement_age     2000 non-null   int64  \n",
      " 3   birth_year         2000 non-null   int64  \n",
      " 4   birth_month        2000 non-null   int64  \n",
      " 5   gender             2000 non-null   object \n",
      " 6   address            2000 non-null   object \n",
      " 7   latitude           2000 non-null   float64\n",
      " 8   longitude          2000 non-null   float64\n",
      " 9   per_capita_income  2000 non-null   float64\n",
      " 10  yearly_income      2000 non-null   float64\n",
      " 11  total_debt         2000 non-null   float64\n",
      " 12  credit_score       2000 non-null   int64  \n",
      " 13  num_credit_cards   2000 non-null   int64  \n",
      "dtypes: float64(5), int64(6), object(3)\n",
      "memory usage: 218.9+ KB\n"
     ]
    }
   ],
   "source": [
    "users.info()"
   ]
  },
  {
   "cell_type": "markdown",
   "metadata": {},
   "source": [
    "### Merging Datasets"
   ]
  },
  {
   "cell_type": "markdown",
   "metadata": {},
   "source": [
    "#### collective_users_data = cards + users"
   ]
  },
  {
   "cell_type": "code",
   "execution_count": 29,
   "metadata": {},
   "outputs": [
    {
     "data": {
      "text/html": [
       "<div>\n",
       "<style scoped>\n",
       "    .dataframe tbody tr th:only-of-type {\n",
       "        vertical-align: middle;\n",
       "    }\n",
       "\n",
       "    .dataframe tbody tr th {\n",
       "        vertical-align: top;\n",
       "    }\n",
       "\n",
       "    .dataframe thead th {\n",
       "        text-align: right;\n",
       "    }\n",
       "</style>\n",
       "<table border=\"1\" class=\"dataframe\">\n",
       "  <thead>\n",
       "    <tr style=\"text-align: right;\">\n",
       "      <th></th>\n",
       "      <th>id_x</th>\n",
       "      <th>client_id</th>\n",
       "      <th>card_brand</th>\n",
       "      <th>card_type</th>\n",
       "      <th>card_number</th>\n",
       "      <th>expires</th>\n",
       "      <th>cvv</th>\n",
       "      <th>has_chip</th>\n",
       "      <th>num_cards_issued</th>\n",
       "      <th>credit_limit</th>\n",
       "      <th>...</th>\n",
       "      <th>birth_month</th>\n",
       "      <th>gender</th>\n",
       "      <th>address</th>\n",
       "      <th>latitude</th>\n",
       "      <th>longitude</th>\n",
       "      <th>per_capita_income</th>\n",
       "      <th>yearly_income</th>\n",
       "      <th>total_debt</th>\n",
       "      <th>credit_score</th>\n",
       "      <th>num_credit_cards</th>\n",
       "    </tr>\n",
       "  </thead>\n",
       "  <tbody>\n",
       "    <tr>\n",
       "      <th>0</th>\n",
       "      <td>4524</td>\n",
       "      <td>825</td>\n",
       "      <td>Visa</td>\n",
       "      <td>Debit</td>\n",
       "      <td>4344676511950444</td>\n",
       "      <td>2022-12-01</td>\n",
       "      <td>623</td>\n",
       "      <td>True</td>\n",
       "      <td>2</td>\n",
       "      <td>24295.0</td>\n",
       "      <td>...</td>\n",
       "      <td>11</td>\n",
       "      <td>Female</td>\n",
       "      <td>462 Rose Lane</td>\n",
       "      <td>34.15</td>\n",
       "      <td>-117.76</td>\n",
       "      <td>29278.0</td>\n",
       "      <td>59696.0</td>\n",
       "      <td>127613.0</td>\n",
       "      <td>787</td>\n",
       "      <td>5</td>\n",
       "    </tr>\n",
       "    <tr>\n",
       "      <th>1</th>\n",
       "      <td>2731</td>\n",
       "      <td>825</td>\n",
       "      <td>Visa</td>\n",
       "      <td>Debit</td>\n",
       "      <td>4956965974959986</td>\n",
       "      <td>2020-12-01</td>\n",
       "      <td>393</td>\n",
       "      <td>True</td>\n",
       "      <td>2</td>\n",
       "      <td>21968.0</td>\n",
       "      <td>...</td>\n",
       "      <td>11</td>\n",
       "      <td>Female</td>\n",
       "      <td>462 Rose Lane</td>\n",
       "      <td>34.15</td>\n",
       "      <td>-117.76</td>\n",
       "      <td>29278.0</td>\n",
       "      <td>59696.0</td>\n",
       "      <td>127613.0</td>\n",
       "      <td>787</td>\n",
       "      <td>5</td>\n",
       "    </tr>\n",
       "    <tr>\n",
       "      <th>2</th>\n",
       "      <td>3701</td>\n",
       "      <td>825</td>\n",
       "      <td>Visa</td>\n",
       "      <td>Debit</td>\n",
       "      <td>4582313478255491</td>\n",
       "      <td>2024-02-01</td>\n",
       "      <td>719</td>\n",
       "      <td>True</td>\n",
       "      <td>2</td>\n",
       "      <td>46414.0</td>\n",
       "      <td>...</td>\n",
       "      <td>11</td>\n",
       "      <td>Female</td>\n",
       "      <td>462 Rose Lane</td>\n",
       "      <td>34.15</td>\n",
       "      <td>-117.76</td>\n",
       "      <td>29278.0</td>\n",
       "      <td>59696.0</td>\n",
       "      <td>127613.0</td>\n",
       "      <td>787</td>\n",
       "      <td>5</td>\n",
       "    </tr>\n",
       "    <tr>\n",
       "      <th>3</th>\n",
       "      <td>42</td>\n",
       "      <td>825</td>\n",
       "      <td>Visa</td>\n",
       "      <td>Credit</td>\n",
       "      <td>4879494103069057</td>\n",
       "      <td>2024-08-01</td>\n",
       "      <td>693</td>\n",
       "      <td>False</td>\n",
       "      <td>1</td>\n",
       "      <td>12400.0</td>\n",
       "      <td>...</td>\n",
       "      <td>11</td>\n",
       "      <td>Female</td>\n",
       "      <td>462 Rose Lane</td>\n",
       "      <td>34.15</td>\n",
       "      <td>-117.76</td>\n",
       "      <td>29278.0</td>\n",
       "      <td>59696.0</td>\n",
       "      <td>127613.0</td>\n",
       "      <td>787</td>\n",
       "      <td>5</td>\n",
       "    </tr>\n",
       "    <tr>\n",
       "      <th>4</th>\n",
       "      <td>4659</td>\n",
       "      <td>825</td>\n",
       "      <td>Mastercard</td>\n",
       "      <td>Debit (Prepaid)</td>\n",
       "      <td>5722874738736011</td>\n",
       "      <td>2009-03-01</td>\n",
       "      <td>75</td>\n",
       "      <td>True</td>\n",
       "      <td>1</td>\n",
       "      <td>28.0</td>\n",
       "      <td>...</td>\n",
       "      <td>11</td>\n",
       "      <td>Female</td>\n",
       "      <td>462 Rose Lane</td>\n",
       "      <td>34.15</td>\n",
       "      <td>-117.76</td>\n",
       "      <td>29278.0</td>\n",
       "      <td>59696.0</td>\n",
       "      <td>127613.0</td>\n",
       "      <td>787</td>\n",
       "      <td>5</td>\n",
       "    </tr>\n",
       "    <tr>\n",
       "      <th>5</th>\n",
       "      <td>4537</td>\n",
       "      <td>1746</td>\n",
       "      <td>Visa</td>\n",
       "      <td>Credit</td>\n",
       "      <td>4404898874682993</td>\n",
       "      <td>2003-09-01</td>\n",
       "      <td>736</td>\n",
       "      <td>True</td>\n",
       "      <td>1</td>\n",
       "      <td>27500.0</td>\n",
       "      <td>...</td>\n",
       "      <td>12</td>\n",
       "      <td>Female</td>\n",
       "      <td>3606 Federal Boulevard</td>\n",
       "      <td>40.76</td>\n",
       "      <td>-73.74</td>\n",
       "      <td>37891.0</td>\n",
       "      <td>77254.0</td>\n",
       "      <td>191349.0</td>\n",
       "      <td>701</td>\n",
       "      <td>5</td>\n",
       "    </tr>\n",
       "    <tr>\n",
       "      <th>6</th>\n",
       "      <td>1278</td>\n",
       "      <td>1746</td>\n",
       "      <td>Visa</td>\n",
       "      <td>Debit</td>\n",
       "      <td>4001482973848631</td>\n",
       "      <td>2022-07-01</td>\n",
       "      <td>972</td>\n",
       "      <td>True</td>\n",
       "      <td>2</td>\n",
       "      <td>28508.0</td>\n",
       "      <td>...</td>\n",
       "      <td>12</td>\n",
       "      <td>Female</td>\n",
       "      <td>3606 Federal Boulevard</td>\n",
       "      <td>40.76</td>\n",
       "      <td>-73.74</td>\n",
       "      <td>37891.0</td>\n",
       "      <td>77254.0</td>\n",
       "      <td>191349.0</td>\n",
       "      <td>701</td>\n",
       "      <td>5</td>\n",
       "    </tr>\n",
       "  </tbody>\n",
       "</table>\n",
       "<p>7 rows × 27 columns</p>\n",
       "</div>"
      ],
      "text/plain": [
       "   id_x client_id  card_brand        card_type       card_number    expires  \\\n",
       "0  4524       825        Visa            Debit  4344676511950444 2022-12-01   \n",
       "1  2731       825        Visa            Debit  4956965974959986 2020-12-01   \n",
       "2  3701       825        Visa            Debit  4582313478255491 2024-02-01   \n",
       "3    42       825        Visa           Credit  4879494103069057 2024-08-01   \n",
       "4  4659       825  Mastercard  Debit (Prepaid)  5722874738736011 2009-03-01   \n",
       "5  4537      1746        Visa           Credit  4404898874682993 2003-09-01   \n",
       "6  1278      1746        Visa            Debit  4001482973848631 2022-07-01   \n",
       "\n",
       "   cvv  has_chip  num_cards_issued  credit_limit  ... birth_month  gender  \\\n",
       "0  623      True                 2       24295.0  ...          11  Female   \n",
       "1  393      True                 2       21968.0  ...          11  Female   \n",
       "2  719      True                 2       46414.0  ...          11  Female   \n",
       "3  693     False                 1       12400.0  ...          11  Female   \n",
       "4   75      True                 1          28.0  ...          11  Female   \n",
       "5  736      True                 1       27500.0  ...          12  Female   \n",
       "6  972      True                 2       28508.0  ...          12  Female   \n",
       "\n",
       "                  address latitude  longitude  per_capita_income  \\\n",
       "0           462 Rose Lane    34.15    -117.76            29278.0   \n",
       "1           462 Rose Lane    34.15    -117.76            29278.0   \n",
       "2           462 Rose Lane    34.15    -117.76            29278.0   \n",
       "3           462 Rose Lane    34.15    -117.76            29278.0   \n",
       "4           462 Rose Lane    34.15    -117.76            29278.0   \n",
       "5  3606 Federal Boulevard    40.76     -73.74            37891.0   \n",
       "6  3606 Federal Boulevard    40.76     -73.74            37891.0   \n",
       "\n",
       "   yearly_income  total_debt credit_score num_credit_cards  \n",
       "0        59696.0    127613.0          787                5  \n",
       "1        59696.0    127613.0          787                5  \n",
       "2        59696.0    127613.0          787                5  \n",
       "3        59696.0    127613.0          787                5  \n",
       "4        59696.0    127613.0          787                5  \n",
       "5        77254.0    191349.0          701                5  \n",
       "6        77254.0    191349.0          701                5  \n",
       "\n",
       "[7 rows x 27 columns]"
      ]
     },
     "execution_count": 29,
     "metadata": {},
     "output_type": "execute_result"
    }
   ],
   "source": [
    "collective_users_data = pd.merge(cards, users, left_on='client_id', right_on='id', how='inner')\n",
    "collective_users_data.head(7)"
   ]
  },
  {
   "cell_type": "code",
   "execution_count": 30,
   "metadata": {},
   "outputs": [
    {
     "name": "stdout",
     "output_type": "stream",
     "text": [
      "Index(['id_x', 'client_id', 'card_brand', 'card_type', 'card_number',\n",
      "       'expires', 'cvv', 'has_chip', 'num_cards_issued', 'credit_limit',\n",
      "       'acct_open_date', 'year_pin_last_changed', 'card_on_dark_web', 'id_y',\n",
      "       'current_age', 'retirement_age', 'birth_year', 'birth_month', 'gender',\n",
      "       'address', 'latitude', 'longitude', 'per_capita_income',\n",
      "       'yearly_income', 'total_debt', 'credit_score', 'num_credit_cards'],\n",
      "      dtype='object')\n"
     ]
    }
   ],
   "source": [
    "\n",
    "print(collective_users_data.columns)"
   ]
  },
  {
   "cell_type": "code",
   "execution_count": 31,
   "metadata": {},
   "outputs": [],
   "source": [
    "collective_users_data.rename(columns = {'id_x': 'card_id'}, inplace = True)"
   ]
  },
  {
   "cell_type": "code",
   "execution_count": 32,
   "metadata": {},
   "outputs": [],
   "source": [
    "collective_users_data.drop(columns = ['id_y'], inplace = True)"
   ]
  },
  {
   "cell_type": "code",
   "execution_count": 33,
   "metadata": {},
   "outputs": [
    {
     "name": "stdout",
     "output_type": "stream",
     "text": [
      "Index(['card_id', 'client_id', 'card_brand', 'card_type', 'card_number',\n",
      "       'expires', 'cvv', 'has_chip', 'num_cards_issued', 'credit_limit',\n",
      "       'acct_open_date', 'year_pin_last_changed', 'card_on_dark_web',\n",
      "       'current_age', 'retirement_age', 'birth_year', 'birth_month', 'gender',\n",
      "       'address', 'latitude', 'longitude', 'per_capita_income',\n",
      "       'yearly_income', 'total_debt', 'credit_score', 'num_credit_cards'],\n",
      "      dtype='object')\n"
     ]
    }
   ],
   "source": [
    "print(collective_users_data.columns)"
   ]
  },
  {
   "cell_type": "code",
   "execution_count": 34,
   "metadata": {},
   "outputs": [
    {
     "name": "stdout",
     "output_type": "stream",
     "text": [
      "Index(['transaction_id', 'target'], dtype='object')\n",
      "Index(['id', 'date', 'client_id', 'card_id', 'amount', 'use_chip',\n",
      "       'merchant_id', 'merchant_city', 'merchant_state', 'zip', 'mcc',\n",
      "       'errors', 'date_part', 'time_part'],\n",
      "      dtype='object')\n",
      "Index(['mcc', 'category'], dtype='object')\n"
     ]
    }
   ],
   "source": [
    "print(fraud_labels.columns)\n",
    "print(transactions.columns)\n",
    "print(mcc_codes.columns)"
   ]
  },
  {
   "cell_type": "markdown",
   "metadata": {},
   "source": [
    "#### full_data = collective_users_data + mcc_codes + fraud_labels + transactions"
   ]
  },
  {
   "cell_type": "code",
   "execution_count": 36,
   "metadata": {},
   "outputs": [
    {
     "name": "stdout",
     "output_type": "stream",
     "text": [
      "object\n",
      "object\n"
     ]
    }
   ],
   "source": [
    "print(transactions['card_id'].dtype)\n",
    "print(collective_users_data['card_id'].dtype)"
   ]
  },
  {
   "cell_type": "code",
   "execution_count": 37,
   "metadata": {},
   "outputs": [
    {
     "name": "stdout",
     "output_type": "stream",
     "text": [
      "        id                date client_id_trans card_id  amount  \\\n",
      "0  7475327 2010-01-01 00:01:00            1556    2972  -77.00   \n",
      "1  7475328 2010-01-01 00:02:00             561    4575   14.57   \n",
      "2  7475329 2010-01-01 00:02:00            1129     102   80.00   \n",
      "3  7475331 2010-01-01 00:05:00             430    2860  200.00   \n",
      "4  7475332 2010-01-01 00:06:00             848    3915   46.41   \n",
      "\n",
      "            use_chip merchant_id merchant_city merchant_state      zip  ...  \\\n",
      "0  Swipe Transaction       59935        Beulah  United States  58523.0  ...   \n",
      "1  Swipe Transaction       67570    Bettendorf  United States  52722.0  ...   \n",
      "2  Swipe Transaction       27092         Vista  United States  92084.0  ...   \n",
      "3  Swipe Transaction       27092   Crown Point  United States  46307.0  ...   \n",
      "4  Swipe Transaction       13051       Harwood  United States  20776.0  ...   \n",
      "\n",
      "  birth_month  gender                   address latitude longitude  \\\n",
      "0           7  Female  594 Mountain View Street    46.80   -100.76   \n",
      "1           6    Male           604 Pine Street    40.80    -91.12   \n",
      "2           4    Male          2379 Forest Lane    33.18   -117.29   \n",
      "3           5  Female        903 Hill Boulevard    41.42    -87.35   \n",
      "4           5    Male           166 River Drive    38.86    -76.60   \n",
      "\n",
      "   per_capita_income yearly_income total_debt credit_score num_credit_cards  \n",
      "0            23679.0       48277.0   110153.0          740                4  \n",
      "1            18076.0       36853.0   112139.0          834                5  \n",
      "2            16894.0       34449.0    36540.0          686                3  \n",
      "3            26168.0       53350.0   128676.0          685                5  \n",
      "4            33529.0       68362.0    96182.0          711                2  \n",
      "\n",
      "[5 rows x 41 columns]\n"
     ]
    }
   ],
   "source": [
    "# Rename transaction_id to id in fraud_labels before merging\n",
    "fraud_labels = fraud_labels.rename(columns={'transaction_id': 'id'})\n",
    "\n",
    "# Step 1: Merge transactions with MCC codes to add category information\n",
    "transactions = transactions.merge(mcc_codes, on='mcc', how='left', suffixes=('_trans', '_mcc'))\n",
    "\n",
    "# Step 2: Merge transactions with fraud labels using the correct key ('id' in both datasets)\n",
    "transactions = transactions.merge(fraud_labels, on='id', how='left')\n",
    "\n",
    "# Step 3: Merge transactions with collective_users_data on 'card_id'\n",
    "full_data = transactions.merge(collective_users_data, on='card_id', how='left', suffixes=('_trans', '_user'))\n",
    "\n",
    "# Display the first few rows of the final merged dataset\n",
    "print(full_data.head())"
   ]
  },
  {
   "cell_type": "code",
   "execution_count": 38,
   "metadata": {},
   "outputs": [
    {
     "name": "stdout",
     "output_type": "stream",
     "text": [
      "<class 'pandas.core.frame.DataFrame'>\n",
      "RangeIndex: 13305915 entries, 0 to 13305914\n",
      "Data columns (total 41 columns):\n",
      " #   Column                 Dtype         \n",
      "---  ------                 -----         \n",
      " 0   id                     object        \n",
      " 1   date                   datetime64[ns]\n",
      " 2   client_id_trans        object        \n",
      " 3   card_id                object        \n",
      " 4   amount                 float64       \n",
      " 5   use_chip               object        \n",
      " 6   merchant_id            object        \n",
      " 7   merchant_city          object        \n",
      " 8   merchant_state         object        \n",
      " 9   zip                    object        \n",
      " 10  mcc                    object        \n",
      " 11  errors                 object        \n",
      " 12  date_part              object        \n",
      " 13  time_part              object        \n",
      " 14  category               object        \n",
      " 15  target                 float64       \n",
      " 16  client_id_user         object        \n",
      " 17  card_brand             object        \n",
      " 18  card_type              object        \n",
      " 19  card_number            object        \n",
      " 20  expires                datetime64[ns]\n",
      " 21  cvv                    object        \n",
      " 22  has_chip               bool          \n",
      " 23  num_cards_issued       int64         \n",
      " 24  credit_limit           float64       \n",
      " 25  acct_open_date         datetime64[ns]\n",
      " 26  year_pin_last_changed  int64         \n",
      " 27  card_on_dark_web       bool          \n",
      " 28  current_age            int64         \n",
      " 29  retirement_age         int64         \n",
      " 30  birth_year             int64         \n",
      " 31  birth_month            int64         \n",
      " 32  gender                 object        \n",
      " 33  address                object        \n",
      " 34  latitude               float64       \n",
      " 35  longitude              float64       \n",
      " 36  per_capita_income      float64       \n",
      " 37  yearly_income          float64       \n",
      " 38  total_debt             float64       \n",
      " 39  credit_score           int64         \n",
      " 40  num_credit_cards       int64         \n",
      "dtypes: bool(2), datetime64[ns](3), float64(8), int64(8), object(20)\n",
      "memory usage: 3.9+ GB\n",
      "None\n"
     ]
    }
   ],
   "source": [
    "print(full_data.info())\n"
   ]
  },
  {
   "cell_type": "code",
   "execution_count": 39,
   "metadata": {},
   "outputs": [
    {
     "name": "stdout",
     "output_type": "stream",
     "text": [
      "                                date        amount        target\n",
      "count                       13305915  1.330592e+07  8.914963e+06\n",
      "mean   2015-01-06 06:50:27.604354816  4.297604e+01  1.495463e-03\n",
      "min              2010-01-01 00:01:00 -5.000000e+02  0.000000e+00\n",
      "25%              2012-08-08 21:43:00  8.930000e+00  0.000000e+00\n",
      "50%              2015-01-22 12:17:00  2.899000e+01  0.000000e+00\n",
      "75%              2017-06-13 17:45:00  6.371000e+01  0.000000e+00\n",
      "max              2019-10-31 23:59:00  6.820200e+03  1.000000e+00\n",
      "std                              NaN  8.165575e+01  3.864230e-02\n",
      "       current_age  retirement_age   birth_year  birth_month     latitude  \\\n",
      "count  2000.000000     2000.000000  2000.000000  2000.000000  2000.000000   \n",
      "mean     45.391500       66.237500  1973.803000     6.439000    37.389225   \n",
      "std      18.414092        3.628867    18.421234     3.565338     5.114324   \n",
      "min      18.000000       50.000000  1918.000000     1.000000    20.880000   \n",
      "25%      30.000000       65.000000  1961.000000     3.000000    33.837500   \n",
      "50%      44.000000       66.000000  1975.000000     7.000000    38.250000   \n",
      "75%      58.000000       68.000000  1989.000000    10.000000    41.200000   \n",
      "max     101.000000       79.000000  2002.000000    12.000000    61.200000   \n",
      "\n",
      "         longitude  per_capita_income  yearly_income     total_debt  \\\n",
      "count  2000.000000        2000.000000    2000.000000    2000.000000   \n",
      "mean    -91.554765       23141.928000   45715.882000   63709.694000   \n",
      "std      16.283293       11324.137358   22992.615456   52254.453421   \n",
      "min    -159.410000           0.000000       1.000000       0.000000   \n",
      "25%     -97.395000       16824.500000   32818.500000   23986.750000   \n",
      "50%     -86.440000       20581.000000   40744.500000   58251.000000   \n",
      "75%     -80.130000       26286.000000   52698.500000   89070.500000   \n",
      "max     -68.670000      163145.000000  307018.000000  516263.000000   \n",
      "\n",
      "       credit_score  num_credit_cards  \n",
      "count   2000.000000       2000.000000  \n",
      "mean     709.734500          3.073000  \n",
      "std       67.221949          1.637379  \n",
      "min      480.000000          1.000000  \n",
      "25%      681.000000          2.000000  \n",
      "50%      711.500000          3.000000  \n",
      "75%      753.000000          4.000000  \n",
      "max      850.000000          9.000000  \n",
      "                             expires  num_cards_issued   credit_limit  \\\n",
      "count                           6146       6146.000000    6146.000000   \n",
      "mean   2020-10-08 06:30:06.443215360          1.503091   14347.493980   \n",
      "min              1997-07-01 00:00:00          1.000000       0.000000   \n",
      "25%              2020-02-01 00:00:00          1.000000    7042.750000   \n",
      "50%              2021-09-01 00:00:00          1.000000   12592.500000   \n",
      "75%              2023-05-01 00:00:00          2.000000   19156.500000   \n",
      "max              2024-12-01 00:00:00          3.000000  151223.000000   \n",
      "std                              NaN          0.519191   12014.463884   \n",
      "\n",
      "                      acct_open_date  year_pin_last_changed  \n",
      "count                           6146            6146.000000  \n",
      "mean   2011-01-15 12:55:31.727953152            2013.436707  \n",
      "min              1991-01-01 00:00:00            2002.000000  \n",
      "25%              2006-10-01 00:00:00            2010.000000  \n",
      "50%              2010-02-15 00:00:00            2013.000000  \n",
      "75%              2016-05-01 00:00:00            2017.000000  \n",
      "max              2020-02-01 00:00:00            2020.000000  \n",
      "std                              NaN               4.270699  \n"
     ]
    },
    {
     "data": {
      "image/png": "[encoded data removed]",
      "text/plain": [
       "<Figure size 1000x500 with 1 Axes>"
      ]
     },
     "metadata": {},
     "output_type": "display_data"
    },
    {
     "data": {
      "image/png": "[encoded data removed]",
      "text/plain": [
       "<Figure size 800x400 with 1 Axes>"
      ]
     },
     "metadata": {},
     "output_type": "display_data"
    },
    {
     "name": "stdout",
     "output_type": "stream",
     "text": [
      "     merchant_city merchant_state  fraud_count\n",
      "4253     Riverside  United States         2769\n",
      "2318       Houston  United States         2217\n",
      "3710       Orlando  United States         1547\n",
      "1665    Farmington  United States         1538\n",
      "1218        Dallas  United States         1450\n",
      "2874   Los Angeles  United States         1416\n",
      "202        Atlanta  United States         1346\n",
      "3152         Miami  United States         1142\n",
      "590       Brooklyn  United States         1008\n",
      "2885    Louisville  United States          985\n"
     ]
    }
   ],
   "source": [
    "\n",
    "# --- 1. Data Cleaning & Preprocessing ---\n",
    "\n",
    "# Handling missing values\n",
    "transactions.fillna({\"errors\": \"No Error\"}, inplace=True)  # Filling missing errors with 'No Error'\n",
    "users.dropna(inplace=True)  # Assuming all user data should be complete\n",
    "cards.fillna({\"credit_limit\": cards[\"credit_limit\"].median()}, inplace=True)  # Imputing median for missing credit limits\n",
    "\n",
    "# Standardizing categorical data\n",
    "transactions[\"use_chip\"] = transactions[\"use_chip\"].str.lower()\n",
    "cards[\"card_brand\"] = cards[\"card_brand\"].str.title()\n",
    "cards[\"card_type\"] = cards[\"card_type\"].str.title()\n",
    "\n",
    "# Converting data types\n",
    "transactions[\"zip\"] = transactions[\"zip\"].astype(str)  # Ensuring ZIP is a string\n",
    "\n",
    "# --- 2. Exploratory Data Analysis (EDA) ---\n",
    "\n",
    "# Summary statistics\n",
    "print(transactions.describe())\n",
    "print(users.describe())\n",
    "print(cards.describe())\n",
    "\n",
    "# Fraud distribution (error types)\n",
    "plt.figure(figsize=(10, 5))\n",
    "sns.countplot(y=transactions[\"errors\"], order=transactions[\"errors\"].value_counts().index)\n",
    "plt.title(\"Error Distribution in Transactions\")\n",
    "plt.show()\n",
    "\n",
    "# Transaction amount distribution\n",
    "plt.figure(figsize=(8, 4))\n",
    "sns.histplot(transactions[\"amount\"], bins=50, kde=True)\n",
    "plt.title(\"Transaction Amount Distribution\")\n",
    "plt.show()\n",
    "\n",
    "# Fraud cases by merchant location\n",
    "fraud_cases = transactions[transactions[\"errors\"] != \"No Error\"]\n",
    "fraud_by_location = fraud_cases.groupby([\"merchant_city\", \"merchant_state\"]).size().reset_index(name='fraud_count')\n",
    "fraud_by_location = fraud_by_location.sort_values(by='fraud_count', ascending=False).head(10)\n",
    "print(fraud_by_location)\n"
   ]
  },
  {
   "cell_type": "code",
   "execution_count": 40,
   "metadata": {},
   "outputs": [
    {
     "name": "stderr",
     "output_type": "stream",
     "text": [
      "/var/folders/8m/bs7t34sj2w71vsmtdl8hm8mw0000gn/T/ipykernel_85096/3992664148.py:7: DeprecationWarning: DataFrameGroupBy.apply operated on the grouping columns. This behavior is deprecated, and in a future version of pandas the grouping columns will be excluded from the operation. Either pass `include_groups=False` to exclude the groupings or explicitly select the grouping columns after groupby to silence this warning.\n",
      "  df_sample = full_data.groupby('target', group_keys=False).apply(lambda x: x.sample(frac=sample_fraction, random_state=42))\n"
     ]
    },
    {
     "name": "stdout",
     "output_type": "stream",
     "text": [
      "target\n",
      "0.0    0.998505\n",
      "1.0    0.001495\n",
      "Name: proportion, dtype: float64\n",
      "(1782992, 41)\n"
     ]
    }
   ],
   "source": [
    "import pandas as pd\n",
    "\n",
    "# Define sampling fraction\n",
    "sample_fraction = 0.20  # 20% of data\n",
    "\n",
    "# Sample 20% from each fraud category while keeping proportions\n",
    "df_sample = full_data.groupby('target', group_keys=False).apply(lambda x: x.sample(frac=sample_fraction, random_state=42))\n",
    "\n",
    "# Reset index after sampling\n",
    "df_sample = df_sample.reset_index(drop=True)\n",
    "\n",
    "# Print sample distribution\n",
    "print(df_sample['target'].value_counts(normalize=True))  # Should match full_data's distribution\n",
    "print(df_sample.shape)  # Check the sample size"
   ]
  },
  {
   "cell_type": "code",
   "execution_count": 41,
   "metadata": {},
   "outputs": [
    {
     "name": "stdout",
     "output_type": "stream",
     "text": [
      "Index(['id', 'date', 'client_id_trans', 'card_id', 'amount', 'use_chip',\n",
      "       'merchant_id', 'merchant_city', 'merchant_state', 'zip', 'mcc',\n",
      "       'errors', 'date_part', 'time_part', 'category', 'target',\n",
      "       'client_id_user', 'card_brand', 'card_type', 'card_number', 'expires',\n",
      "       'cvv', 'has_chip', 'num_cards_issued', 'credit_limit', 'acct_open_date',\n",
      "       'year_pin_last_changed', 'card_on_dark_web', 'current_age',\n",
      "       'retirement_age', 'birth_year', 'birth_month', 'gender', 'address',\n",
      "       'latitude', 'longitude', 'per_capita_income', 'yearly_income',\n",
      "       'total_debt', 'credit_score', 'num_credit_cards'],\n",
      "      dtype='object')\n"
     ]
    }
   ],
   "source": [
    "print(df_sample.columns)"
   ]
  },
  {
   "cell_type": "code",
   "execution_count": 42,
   "metadata": {},
   "outputs": [],
   "source": [
    "# Create a new column for unusual locations by counting unique states per client_id_user\n",
    "df_sample['unusual_location_count'] = df_sample.groupby('client_id_user')['merchant_state'].transform(lambda x: len(x.unique()))"
   ]
  },
  {
   "cell_type": "code",
   "execution_count": 43,
   "metadata": {},
   "outputs": [],
   "source": [
    "# Convert the 'date' column to datetime if it's not already\n",
    "df_sample['date'] = pd.to_datetime(df_sample['date'])\n",
    "\n",
    "# Sort by client and date\n",
    "df_sample = df_sample.sort_values(by=['client_id_user', 'date'])\n",
    "\n",
    "# Calculate time difference (in seconds) between consecutive transactions for each client\n",
    "df_sample['time_diff'] = df_sample.groupby('client_id_user')['date'].diff().dt.total_seconds()\n",
    "\n",
    "# Count the number of transactions within the last hour (3600 seconds)\n",
    "df_sample['transactions_last_hour'] = df_sample.groupby('client_id_user')['time_diff'].transform(\n",
    "    lambda x: (x <= 3600).sum())\n",
    "\n"
   ]
  },
  {
   "cell_type": "markdown",
   "metadata": {},
   "source": [
    "### Create the night_trans_count column\n",
    "\n",
    "extract the hour from the date column and then filter for transactions that occurred between 1 AM and 4 AM."
   ]
  },
  {
   "cell_type": "code",
   "execution_count": 45,
   "metadata": {},
   "outputs": [],
   "source": [
    "# Extract the hour from the 'date' column\n",
    "df_sample['hour'] = df_sample['date'].dt.hour\n",
    "\n",
    "# Count night transactions (transactions between 1 AM and 4 AM)\n",
    "df_sample['night_trans_count'] = df_sample['hour'].between(1, 4).astype(int)"
   ]
  },
  {
   "cell_type": "markdown",
   "metadata": {},
   "source": [
    "### Rule Based Fraud Detection\n",
    "\n",
    "Identify high-risk transactions using predefined rules."
   ]
  },
  {
   "cell_type": "markdown",
   "metadata": {},
   "source": [
    "#### create a sample dataframe"
   ]
  },
  {
   "cell_type": "code",
   "execution_count": 47,
   "metadata": {},
   "outputs": [],
   "source": [
    "import numpy as np\n",
    "\n",
    "# Rule 1: High amount and international transaction\n",
    "df_sample['rule_1'] = (df_sample['amount'] > 900) & (df_sample['merchant_state'].isna())\n",
    "\n",
    "# Rule 2: Unusual location (≥2 different states)\n",
    "df_sample['rule_2'] = df_sample['unusual_location_count'] >= 2\n",
    "\n",
    "# Rule 3: High-velocity transactions (≥10 in last hour)\n",
    "df_sample['rule_3'] = df_sample['transactions_last_hour'] >= 10\n",
    "\n",
    "# Rule 4: Extreme amount (>$999)\n",
    "df_sample['rule_4'] = df_sample['amount'] > 999\n",
    "\n",
    "# Rule 5: Night transactions (1AM-4AM)\n",
    "df_sample['rule_5'] = df_sample['night_trans_count'] >= 5\n",
    "\n",
    "# Compute total rule score\n",
    "df_sample['rule_score'] = df_sample[['rule_1', 'rule_2', 'rule_3', 'rule_4', 'rule_5']].sum(axis=1)\n",
    "\n",
    "# Apply decisions\n",
    "df_sample['decision'] = np.select(\n",
    "    [df_sample['rule_score'] >= 3, \n",
    "     df_sample['rule_score'] == 2, \n",
    "     df_sample['rule_score'] == 1], \n",
    "    ['Block', 'Manual Review', 'Flag'], \n",
    "    default='Allow'\n",
    ")"
   ]
  },
  {
   "cell_type": "markdown",
   "metadata": {},
   "source": [
    "### logic:\n",
    "a higher rule score leads to more severe actions like blocking, while lower rule scores lead to lighter actions like flagging.\n",
    "\n",
    "\t•\tBlock: Transactions that meet 3 or more rules.\n",
    "\t•\tManual Review: Transactions that meet exactly 2 rules.\n",
    "\t•\tFlag: Transactions that meet only 1 rule.\n",
    "\t•\tAllow: Transactions that meet none of the criteria.\n"
   ]
  },
  {
   "cell_type": "markdown",
   "metadata": {},
   "source": [
    "#### Check how many transactions are flagged by the rules:"
   ]
  },
  {
   "cell_type": "code",
   "execution_count": 50,
   "metadata": {},
   "outputs": [
    {
     "name": "stdout",
     "output_type": "stream",
     "text": [
      "decision\n",
      "Manual Review    1774154\n",
      "Flag                7473\n",
      "Block               1365\n",
      "Name: count, dtype: int64\n"
     ]
    }
   ],
   "source": [
    "decision_counts = df_sample['decision'].value_counts()\n",
    "print(decision_counts)"
   ]
  },
  {
   "cell_type": "code",
   "execution_count": 51,
   "metadata": {},
   "outputs": [
    {
     "data": {
      "image/png": "[encoded data removed]",
      "text/plain": [
       "<Figure size 800x600 with 1 Axes>"
      ]
     },
     "metadata": {},
     "output_type": "display_data"
    }
   ],
   "source": [
    "import matplotlib.pyplot as plt\n",
    "\n",
    "# Visualize the distribution of decisions\n",
    "plt.figure(figsize=(8, 6))\n",
    "df_sample['decision'].value_counts().plot(kind='bar', color='skyblue')\n",
    "plt.title('Distribution of Rule-Based Decisions')\n",
    "plt.xlabel('Decision')\n",
    "plt.ylabel('Number of Transactions')\n",
    "plt.xticks(rotation=45)\n",
    "plt.show()"
   ]
  },
  {
   "cell_type": "markdown",
   "metadata": {},
   "source": [
    "####  Analyze Impact on Fraud Detection\n",
    "assess how well your rule-based decisions align with the true fraud labels. For instance, you can check the accuracy, precision, recall, or F1-score of the decisions made by the rules compared to the actual fraud labels."
   ]
  },
  {
   "cell_type": "code",
   "execution_count": 53,
   "metadata": {},
   "outputs": [
    {
     "name": "stdout",
     "output_type": "stream",
     "text": [
      "float64\n",
      "object\n"
     ]
    },
    {
     "name": "stderr",
     "output_type": "stream",
     "text": [
      "/opt/anaconda3/lib/python3.12/site-packages/sklearn/metrics/_classification.py:1509: UndefinedMetricWarning: Precision is ill-defined and being set to 0.0 in labels with no predicted samples. Use `zero_division` parameter to control this behavior.\n",
      "  _warn_prf(average, modifier, f\"{metric.capitalize()} is\", len(result))\n",
      "/opt/anaconda3/lib/python3.12/site-packages/sklearn/metrics/_classification.py:1509: UndefinedMetricWarning: Recall is ill-defined and being set to 0.0 in labels with no true samples. Use `zero_division` parameter to control this behavior.\n",
      "  _warn_prf(average, modifier, f\"{metric.capitalize()} is\", len(result))\n",
      "/opt/anaconda3/lib/python3.12/site-packages/sklearn/metrics/_classification.py:1509: UndefinedMetricWarning: Precision is ill-defined and being set to 0.0 in labels with no predicted samples. Use `zero_division` parameter to control this behavior.\n",
      "  _warn_prf(average, modifier, f\"{metric.capitalize()} is\", len(result))\n",
      "/opt/anaconda3/lib/python3.12/site-packages/sklearn/metrics/_classification.py:1509: UndefinedMetricWarning: Recall is ill-defined and being set to 0.0 in labels with no true samples. Use `zero_division` parameter to control this behavior.\n",
      "  _warn_prf(average, modifier, f\"{metric.capitalize()} is\", len(result))\n"
     ]
    },
    {
     "name": "stdout",
     "output_type": "stream",
     "text": [
      "               precision    recall  f1-score   support\n",
      "\n",
      "        Allow       0.00      0.00      0.00   1780326\n",
      "        Block       0.01      0.01      0.01      2666\n",
      "Manual Review       0.00      0.00      0.00         0\n",
      "         Flag       0.00      0.00      0.00         0\n",
      "\n",
      "     accuracy                           0.00   1782992\n",
      "    macro avg       0.00      0.00      0.00   1782992\n",
      " weighted avg       0.00      0.00      0.00   1782992\n",
      "\n"
     ]
    },
    {
     "name": "stderr",
     "output_type": "stream",
     "text": [
      "/opt/anaconda3/lib/python3.12/site-packages/sklearn/metrics/_classification.py:1509: UndefinedMetricWarning: Precision is ill-defined and being set to 0.0 in labels with no predicted samples. Use `zero_division` parameter to control this behavior.\n",
      "  _warn_prf(average, modifier, f\"{metric.capitalize()} is\", len(result))\n",
      "/opt/anaconda3/lib/python3.12/site-packages/sklearn/metrics/_classification.py:1509: UndefinedMetricWarning: Recall is ill-defined and being set to 0.0 in labels with no true samples. Use `zero_division` parameter to control this behavior.\n",
      "  _warn_prf(average, modifier, f\"{metric.capitalize()} is\", len(result))\n"
     ]
    }
   ],
   "source": [
    "# Correct decision logic based on rule scores\n",
    "df_sample['decision'] = np.select(\n",
    "    [df_sample['rule_score'] >= 3, \n",
    "     df_sample['rule_score'] == 2, \n",
    "     df_sample['rule_score'] == 1], \n",
    "    ['Block', 'Manual Review', 'Flag'], \n",
    "    default='Allow'\n",
    ")\n",
    "\n",
    "# Verify the data types of 'target' and 'decision'\n",
    "print(df_sample['target'].dtype)\n",
    "print(df_sample['decision'].dtype)\n",
    "\n",
    "# Map the decision to numeric values\n",
    "decision_map = {\n",
    "    'Allow': 0,\n",
    "    'Block': 1,\n",
    "    'Manual Review': 2,\n",
    "    'Flag': 3\n",
    "}\n",
    "\n",
    "# Create the new 'decision_numeric' column\n",
    "df_sample['decision_numeric'] = df_sample['decision'].map(decision_map)\n",
    "\n",
    "# Print the classification report comparing target vs decision\n",
    "print(classification_report(df_sample['target'], df_sample['decision_numeric'], target_names=['Allow', 'Block', 'Manual Review', 'Flag']))"
   ]
  },
  {
   "cell_type": "markdown",
   "metadata": {},
   "source": [
    "#### Rules from Tinybird article:\n",
    "\n",
    "1. **High Amount Transactions**: The SQL checks for amount > 900. In the dataset, the 'amount' column is already a float, so we can create a boolean column for transactions exceeding this threshold.\n",
    "\n",
    "2. **Unusual Location**: The SQL looks for transactions outside the user's usual locations. The user's usual locations can be determined by aggregating their transaction history. However, since the data might be large, we need an efficient way to compute this. Maybe group by user_id and check if the merchant_state is not in the user's common states.\n",
    "\n",
    "3. **High-Velocity Transactions**: Counting transactions per user in the last hour. This requires tracking the timestamp and user_id. Since the data is historical, we can't use real-time intervals, but we can simulate it by checking time differences between consecutive transactions for each user.\n",
    "\n",
    "4. **Unusually Large Transactions**: Similar to the first rule but with a higher threshold (e.g., >999). This is straightforward with a boolean condition.\n",
    "\n",
    "5. **Unusual Times**: Transactions between 1 AM and 5 AM. Extract the hour from the timestamp and check if it's within that range.\n",
    "\n",
    "6. **Declined Transactions**: The dataset has an 'errors' column. Assuming declined transactions are indicated here, count how many times a user has transactions with errors.\n",
    "\n",
    "7. **High-Risk IP Addresses**: The example uses IP prefixes, but the dataset has 'merchant_id' and 'zip'. Maybe adapt this to check for high-risk merchants or zip codes. Alternatively, if there's an IP-related field, use that, but based on the current data, this might not be directly applicable.\n",
    "\n",
    "8. **Unusual Spending Patterns**: Using statistical methods like z-scores to detect amounts that are 2 standard deviations above the mean for each user. This requires grouping by user and calculating mean and std, then comparing each transaction's amount.\n",
    "\n"
   ]
  },
  {
   "cell_type": "markdown",
   "metadata": {},
   "source": [
    "### Apply to full_data"
   ]
  },
  {
   "cell_type": "code",
   "execution_count": 55,
   "metadata": {},
   "outputs": [
    {
     "name": "stdout",
     "output_type": "stream",
     "text": [
      "     client_id_user  amount merchant_state  rule_1  rule_2  rule_3  rule_4  \\\n",
      "1795              0   33.96  United States   False    True    True   False   \n",
      "2960              0    7.78  United States   False    True    True   False   \n",
      "3299              0   65.86  United States   False    True    True   False   \n",
      "4955              0   55.85  United States   False    True    True   False   \n",
      "8801              0    1.37  United States   False    True    True   False   \n",
      "\n",
      "      rule_5  rule_score       decision  \n",
      "1795   False           2  Manual Review  \n",
      "2960   False           2  Manual Review  \n",
      "3299   False           2  Manual Review  \n",
      "4955   False           2  Manual Review  \n",
      "8801   False           2  Manual Review  \n"
     ]
    }
   ],
   "source": [
    "# Ensure 'date' column is in datetime format\n",
    "full_data['date'] = pd.to_datetime(full_data['date'])\n",
    "\n",
    "# Create a new column for unusual locations by counting unique states per client_id_user\n",
    "full_data['unusual_location_count'] = full_data.groupby('client_id_user')['merchant_state'].transform(lambda x: len(x.unique()))\n",
    "\n",
    "# Sort by client and date\n",
    "full_data = full_data.sort_values(by=['client_id_user', 'date'])\n",
    "\n",
    "# Calculate time difference (in seconds) between consecutive transactions for each client\n",
    "full_data['time_diff'] = full_data.groupby('client_id_user')['date'].diff().dt.total_seconds()\n",
    "\n",
    "# Count the number of transactions within the last hour (3600 seconds)\n",
    "full_data['transactions_last_hour'] = full_data.groupby('client_id_user')['time_diff'].transform(\n",
    "    lambda x: (x <= 3600).sum())\n",
    "\n",
    "# Extract the hour from the 'date' column\n",
    "full_data['hour'] = full_data['date'].dt.hour\n",
    "\n",
    "# Count night transactions (transactions between 1 AM and 4 AM)\n",
    "full_data['night_trans_count'] = full_data['hour'].between(1, 4).astype(int)\n",
    "\n",
    "# Rule 1: High amount and international transaction\n",
    "full_data['rule_1'] = (full_data['amount'] > 900) & (full_data['merchant_state'].isna())\n",
    "\n",
    "# Rule 2: Unusual location (≥2 different states)\n",
    "full_data['rule_2'] = full_data['unusual_location_count'] >= 2\n",
    "\n",
    "# Rule 3: High-velocity transactions (≥10 in last hour)\n",
    "full_data['rule_3'] = full_data['transactions_last_hour'] >= 10\n",
    "\n",
    "# Rule 4: Extreme amount (>$999)\n",
    "full_data['rule_4'] = full_data['amount'] > 999\n",
    "\n",
    "# Rule 5: Night transactions (1AM-4AM)\n",
    "full_data['rule_5'] = full_data['night_trans_count'] >= 5\n",
    "\n",
    "# Compute total rule score\n",
    "full_data['rule_score'] = full_data[['rule_1', 'rule_2', 'rule_3', 'rule_4', 'rule_5']].sum(axis=1)\n",
    "\n",
    "# Apply decisions with severity logic\n",
    "full_data['decision'] = np.select(\n",
    "    [full_data['rule_score'] >= 3,  # Severe transactions (high rule score)\n",
    "     full_data['rule_score'] == 2,  # Moderate severity transactions\n",
    "     full_data['rule_score'] == 1], # Low severity transactions\n",
    "    ['Block', 'Manual Review', 'Flag'],  # Corrected decision application\n",
    "    default='Allow'  # If none of the above, the transaction is allowed\n",
    ")\n",
    "\n",
    "# Now you can check the resulting dataframe to verify the decisions\n",
    "print(full_data[['client_id_user', 'amount', 'merchant_state', 'rule_1', 'rule_2', 'rule_3', 'rule_4', 'rule_5', 'rule_score', 'decision']].head())"
   ]
  },
  {
   "cell_type": "code",
   "execution_count": 56,
   "metadata": {},
   "outputs": [
    {
     "name": "stdout",
     "output_type": "stream",
     "text": [
      "decision\n",
      "Manual Review    13296042\n",
      "Block                9873\n",
      "Name: count, dtype: int64\n",
      "     client_id_user  amount merchant_state  rule_1  rule_2  rule_3  rule_4  \\\n",
      "1795              0   33.96  United States   False    True    True   False   \n",
      "2960              0    7.78  United States   False    True    True   False   \n",
      "3299              0   65.86  United States   False    True    True   False   \n",
      "4955              0   55.85  United States   False    True    True   False   \n",
      "8801              0    1.37  United States   False    True    True   False   \n",
      "\n",
      "      rule_5  rule_score       decision  \n",
      "1795   False           2  Manual Review  \n",
      "2960   False           2  Manual Review  \n",
      "3299   False           2  Manual Review  \n",
      "4955   False           2  Manual Review  \n",
      "8801   False           2  Manual Review  \n"
     ]
    }
   ],
   "source": [
    "# Print the distribution of decisions with the updated severity logic\n",
    "print(full_data['decision'].value_counts())\n",
    "\n",
    "# Print the first few rows of the dataset to verify the applied rules and decisions\n",
    "print(full_data[['client_id_user', 'amount', 'merchant_state', 'rule_1', 'rule_2', 'rule_3', 'rule_4', 'rule_5', 'rule_score', 'decision']].head())"
   ]
  },
  {
   "cell_type": "code",
   "execution_count": 57,
   "metadata": {},
   "outputs": [
    {
     "name": "stdout",
     "output_type": "stream",
     "text": [
      "rule_score\n",
      "2    13296042\n",
      "3        7981\n",
      "4        1892\n",
      "Name: count, dtype: int64\n"
     ]
    }
   ],
   "source": [
    "# Check the distribution of rule scores\n",
    "print(full_data['rule_score'].value_counts())"
   ]
  },
  {
   "cell_type": "code",
   "execution_count": null,
   "metadata": {},
   "outputs": [],
   "source": []
  }
 ],
 "metadata": {
  "kernelspec": {
   "display_name": "Python 3 (ipykernel)",
   "language": "python",
   "name": "python3"
  },
  "language_info": {
   "codemirror_mode": {
    "name": "ipython",
    "version": 3
   },
   "file_extension": ".py",
   "mimetype": "text/x-python",
   "name": "python",
   "nbconvert_exporter": "python",
   "pygments_lexer": "ipython3",
   "version": "3.12.4"
  }
 },
 "nbformat": 4,
 "nbformat_minor": 4
}
